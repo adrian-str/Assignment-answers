{
 "cells": [
  {
   "cell_type": "code",
   "execution_count": 2,
   "metadata": {},
   "outputs": [
    {
     "data": {
      "text/plain": [
       "true"
      ]
     },
     "execution_count": 2,
     "metadata": {},
     "output_type": "execute_result"
    }
   ],
   "source": [
    "require 'bio'\n",
    "require 'bio/db/embl/embl'"
   ]
  },
  {
   "cell_type": "code",
   "execution_count": 8,
   "metadata": {},
   "outputs": [
    {
     "data": {
      "text/plain": [
       "[16, 22]"
      ]
     },
     "execution_count": 8,
     "metadata": {},
     "output_type": "execute_result"
    }
   ],
   "source": [
    "repf= Bio::Sequence.auto(\"CTTCTT\")\n",
    "repr=repf.reverse_complement\n",
    "sequence = Bio::Sequence.auto(\"AAAACTTCTTAGAGGGAAGAAGAGGAAAAA\")\n",
    "exon_seq= sequence.output(:embl)\n",
    "#puts exon_seq\n",
    "[sequence.match(repr).begin(0),sequence.match(repr).end(0)]#.join('..')"
   ]
  },
  {
   "cell_type": "code",
   "execution_count": 6,
   "metadata": {},
   "outputs": [
    {
     "name": "stdout",
     "output_type": "stream",
     "text": [
      "ID   ; SV ; ; NA; ; ; 30 BP.\n",
      "XX   \n",
      "AC   ;\n",
      "XX   \n",
      "DT   01-JAN-0000 (Rel. 0, Created)\n",
      "DT   01-JAN-0000 (Rel. 0, Last updated, Version 0)\n",
      "XX   \n",
      "\n",
      "XX   \n",
      "KW   .\n",
      "XX   \n",
      "OS   \n",
      "OC   .\n",
      "XX   \n",
      "FH   Key             Location/Qualifiers\n",
      "FH   \n",
      "XX   \n",
      "SQ   Sequence 30 BP; 16 A; 2 C; 8 G; 4 T; 0 other;\n",
      "     aaaacttctt agagggaaga agaggaaaaa                                         30\n",
      "//\n",
      "\n"
     ]
    }
   ],
   "source": [
    "sequence = Bio::Sequence.auto(\"AAAACTTCTTAGAGGGAAGAAGAGGAAAAA\")\n",
    "puts sequence.output(:embl)\n",
    "\n",
    "\n",
    "  repf= Bio::Sequence.auto(\"CTTCTT\")\n",
    "  repr=repf.reverse_complement\n",
    "  genes.each_value do |embl|\n",
    "    bio_seq=embl.to_biosequence\n",
    "    next unless embl.seq.match(repf) or embl.seq.match(repr)\n",
    "    embl.features do |feature|\n",
    "      next unless feature.feature == \"exon\"\n",
    "      feature.locations.each do |location|\n",
    "        exon_seq=embl.seq[location.from..location.to]\n",
    "        if location.strand == 1\n",
    "          if exon_seq.match(repf)\n",
    "            positionf = [exon_seq.match(repf).begin(0),exon_seq.match(repf).end(0)].join('..')\n",
    "            bio_seq.features << add_features(positionf,location.strand)\n",
    "          end\n",
    "        elsif location.strand == -1\n",
    "          if exon_seq.match(repr)\n",
    "            positionr = [exon_seq.match(repr).begin(0),exon_seq.match(repr).end(0)].join('..')\n",
    "            bio_seq.features << add_features(positionr,location.strand)\n",
    "          end\n",
    "        end\n",
    "        \n",
    "      end\n",
    "    end\n",
    "  end\n"
   ]
  },
  {
   "cell_type": "code",
   "execution_count": null,
   "metadata": {},
   "outputs": [],
   "source": []
  }
 ],
 "metadata": {
  "kernelspec": {
   "display_name": "Ruby 2.5.1",
   "language": "ruby",
   "name": "ruby"
  },
  "language_info": {
   "file_extension": ".rb",
   "mimetype": "application/x-ruby",
   "name": "ruby",
   "version": "2.5.1"
  }
 },
 "nbformat": 4,
 "nbformat_minor": 2
}
