{
 "cells": [
  {
   "cell_type": "code",
   "execution_count": null,
   "metadata": {},
   "outputs": [],
   "source": []
  },
  {
   "cell_type": "code",
   "execution_count": null,
   "metadata": {},
   "outputs": [],
   "source": [
    "require 'rest-client'\n",
    "res = fetch(\"http://www.ebi.ac.uk/Tools/webservices/psicquic/intact/webservices/current/search/interactor/AT3g61260%20AND%20species:arath/?format=tab25\")\n",
    "          score=/i\\w+-\\w+:(0\\.\\d+)/\n",
    "          if res\n",
    "            intact=res.body.split(\"\\n\")\n",
    "            intact.is_a?(Array)\n",
    "            intact.each do |int|\n",
    "             g1,g2=int.scan(/(A[Tt]\\d[Gg]\\d\\d\\d\\d\\d)\\(locus\\sname\\)/)[1] \n",
    "                puts g1\n",
    "                puts g2\n",
    "                puts\n",
    "                \n",
    "                \n",
    "              \n",
    "            end  \n",
    "          end "
   ]
  },
  {
   "cell_type": "code",
   "execution_count": 1,
   "metadata": {},
   "outputs": [
    {
     "data": {
      "text/plain": [
       "true"
      ]
     },
     "execution_count": 1,
     "metadata": {},
     "output_type": "execute_result"
    }
   ],
   "source": [
    "require './InteractionNetwork'"
   ]
  },
  {
   "cell_type": "code",
   "execution_count": 2,
   "metadata": {},
   "outputs": [
    {
     "data": {
      "text/plain": [
       "[\"at4g27030\", \"at5g54270\", \"at1g21400\", \"at5g19120\", \"at2g13360\", \"at4g05180\", \"at1g22690\", \"at2g45170\", \"at4g09650\", \"at5g55620\", \"at1g31330\", \"at1g80440\", \"at3g28270\", \"at4g12800\", \"at5g04140\", \"at5g64040\", \"at1g29660\", \"at1g15820\", \"at1g64500\", \"at1g03130\", \"at2g20670\", \"at4g17090\", \"at1g23740\", \"at2g46340\", \"at4g17460\", \"at1g07010\", \"at1g32220\", \"at2g03750\", \"at3g47470\", \"at4g12830\", \"at5g05690\", \"at5g64410\", \"at2g21330\", \"at1g15980\", \"at2g01890\", \"at1g12250\", \"at2g21210\", \"at4g28660\", \"at1g52230\", \"at3g18890\", \"at4g22890\", \"at1g11850\", \"at1g37130\", \"at2g04039\", \"at3g48420\", \"at4g19170\", \"at5g07020\", \"at5g65010\", \"at3g01500\", \"at1g25230\", \"at2g34430\", \"at1g18060\", \"at2g30600\", \"at4g33010\", \"at1g65490\", \"at3g21670\", \"at4g27260\", \"at1g12780\", \"at1g55480\", \"at2g17880\", \"at3g49160\", \"at4g21210\", \"at5g14740\", \"at4g37980\", \"at1g29395\", \"at2g39730\", \"at1g20020\", \"at2g34420\", \"at4g37800\", \"at1g70820\", \"at3g26740\", \"at4g28780\", \"at1g12900\", \"at1g64680\", \"at2g25200\", \"at3g55800\", \"at4g21280\", \"at5g15850\", \"at1g06680\", \"at2g43550\", \"at3g02730\", \"at1g42970\", \"at2g39470\", \"at5g17300\", \"at1g77490\", \"at3g27690\", \"at5g01015\", \"at1g14150\", \"at1g64720\", \"at2g26080\", \"at3g56940\", \"at4g28030\", \"at5g20250\", \"at1g54040\", \"at3g21870\", \"at3g48360\", \"at1g61520\", \"at2g43010\", \"at5g22920\", \"at1g78370\", \"at3g28220\", \"at5g11070\", \"at1g23205\", \"at1g68010\", \"at2g26740\", \"at3g61470\", \"at4g28750\", \"at5g24210\", \"at1g71030\", \"at3g54050\", \"at3g54890\", \"at1g72610\", \"at3g08940\", \"at5g62280\", \"at2g18700\", \"at3g45780\", \"at5g18670\", \"at1g28330\", \"at1g68570\", \"at2g30950\", \"at3g62410\", \"at4g33660\", \"at5g35170\", \"at3g16250\", \"at1g09340\", \"at3g63140\", \"at1g76080\", \"at3g46780\", \"at1g02640\", \"at2g33830\", \"at3g47340\", \"at5g35630\", \"at1g29910\", \"at1g69870\", \"at2g47930\", \"at4g02530\", \"at4g38840\", \"at5g43750\", \"at3g50820\", \"at1g13930\", \"at4g37610\", \"at1g76100\", \"at3g61260\", \"at1g08380\", \"at2g38210\", \"at4g04640\", \"at5g38990\", \"at1g29920\", \"at1g74730\", \"at3g05730\", \"at4g02770\", \"at4g39710\", \"at5g48300\", \"at5g48490\", \"at1g20440\", \"at5g02160\", \"at2g05540\", \"at3g62550\", \"at1g14280\", \"at2g43100\", \"at4g09010\", \"at5g49360\", \"at1g30380\", \"at1g78460\", \"at3g16140\", \"at4g12310\", \"at5g01530\", \"at5g58260\"]"
      ]
     },
     "execution_count": 2,
     "metadata": {},
     "output_type": "execute_result"
    }
   ],
   "source": [
    "InteractionNetwork.get_agi('./ArabidopsisSubNetwork_GeneList.txt')"
   ]
  },
  {
   "cell_type": "code",
   "execution_count": 3,
   "metadata": {},
   "outputs": [
    {
     "data": {
      "text/plain": [
       "[\"at4g27030\", \"at5g54270\", \"at1g21400\", \"at5g19120\", \"at2g13360\", \"at4g05180\", \"at1g22690\", \"at2g45170\", \"at4g09650\", \"at5g55620\", \"at1g31330\", \"at1g80440\", \"at3g28270\", \"at4g12800\", \"at5g04140\", \"at5g64040\", \"at1g29660\", \"at1g15820\", \"at1g64500\", \"at1g03130\", \"at2g20670\", \"at4g17090\", \"at1g23740\", \"at2g46340\", \"at4g17460\", \"at1g07010\", \"at1g32220\", \"at2g03750\", \"at3g47470\", \"at4g12830\", \"at5g05690\", \"at5g64410\", \"at2g21330\", \"at1g15980\", \"at2g01890\", \"at1g12250\", \"at2g21210\", \"at4g28660\", \"at1g52230\", \"at3g18890\", \"at4g22890\", \"at1g11850\", \"at1g37130\", \"at2g04039\", \"at3g48420\", \"at4g19170\", \"at5g07020\", \"at5g65010\", \"at3g01500\", \"at1g25230\", \"at2g34430\", \"at1g18060\", \"at2g30600\", \"at4g33010\", \"at1g65490\", \"at3g21670\", \"at4g27260\", \"at1g12780\", \"at1g55480\", \"at2g17880\", \"at3g49160\", \"at4g21210\", \"at5g14740\", \"at4g37980\", \"at1g29395\", \"at2g39730\", \"at1g20020\", \"at2g34420\", \"at4g37800\", \"at1g70820\", \"at3g26740\", \"at4g28780\", \"at1g12900\", \"at1g64680\", \"at2g25200\", \"at3g55800\", \"at4g21280\", \"at5g15850\", \"at1g06680\", \"at2g43550\", \"at3g02730\", \"at1g42970\", \"at2g39470\", \"at5g17300\", \"at1g77490\", \"at3g27690\", \"at5g01015\", \"at1g14150\", \"at1g64720\", \"at2g26080\", \"at3g56940\", \"at4g28030\", \"at5g20250\", \"at1g54040\", \"at3g21870\", \"at3g48360\", \"at1g61520\", \"at2g43010\", \"at5g22920\", \"at1g78370\", \"at3g28220\", \"at5g11070\", \"at1g23205\", \"at1g68010\", \"at2g26740\", \"at3g61470\", \"at4g28750\", \"at5g24210\", \"at1g71030\", \"at3g54050\", \"at3g54890\", \"at1g72610\", \"at3g08940\", \"at5g62280\", \"at2g18700\", \"at3g45780\", \"at5g18670\", \"at1g28330\", \"at1g68570\", \"at2g30950\", \"at3g62410\", \"at4g33660\", \"at5g35170\", \"at3g16250\", \"at1g09340\", \"at3g63140\", \"at1g76080\", \"at3g46780\", \"at1g02640\", \"at2g33830\", \"at3g47340\", \"at5g35630\", \"at1g29910\", \"at1g69870\", \"at2g47930\", \"at4g02530\", \"at4g38840\", \"at5g43750\", \"at3g50820\", \"at1g13930\", \"at4g37610\", \"at1g76100\", \"at3g61260\", \"at1g08380\", \"at2g38210\", \"at4g04640\", \"at5g38990\", \"at1g29920\", \"at1g74730\", \"at3g05730\", \"at4g02770\", \"at4g39710\", \"at5g48300\", \"at5g48490\", \"at1g20440\", \"at5g02160\", \"at2g05540\", \"at3g62550\", \"at1g14280\", \"at2g43100\", \"at4g09010\", \"at5g49360\", \"at1g30380\", \"at1g78460\", \"at3g16140\", \"at4g12310\", \"at5g01530\", \"at5g58260\"]"
      ]
     },
     "execution_count": 3,
     "metadata": {},
     "output_type": "execute_result"
    }
   ],
   "source": [
    "InteractionNetwork.search_interactors"
   ]
  },
  {
   "cell_type": "code",
   "execution_count": 4,
   "metadata": {},
   "outputs": [
    {
     "data": {
      "text/plain": [
       "{\"at4g09650\"=>[\"At4g32570\", \"At1g37130\"], \"at1g03130\"=>[\"At4g37260\", \"At4g02770\"], \"at4g17460\"=>[\"At3g15030\", \"At5g17300\"], \"at1g37130\"=>\"At1g37130\", \"at5g15850\"=>[\"At3g02150\", \"At5g17300\"], \"at5g17300\"=>[\"At1g60250\", \"At1g71030\"], \"at3g48360\"=>[\"At4g09570\", \"At3g54050\"], \"at1g71030\"=>[\"At1g60250\", \"At5g17300\"], \"at1g76080\"=>[\"At1g31880\", \"At1g37130\"], \"at4g02770\"=>[\"At4g37260\", \"At4g09650\"], \"at1g14280\"=>[\"At1g31880\", \"At1g37130\"]}"
      ]
     },
     "execution_count": 4,
     "metadata": {},
     "output_type": "execute_result"
    }
   ],
   "source": [
    "InteractionNetwork.get_interacting"
   ]
  },
  {
   "cell_type": "code",
   "execution_count": 5,
   "metadata": {},
   "outputs": [
    {
     "data": {
      "text/plain": [
       "{\"at4g09650\"=>[\"At4g32570\", \"At1g37130\"], \"at1g03130\"=>[\"At4g37260\", \"At4g02770\"], \"at4g17460\"=>[\"At3g15030\", \"At5g17300\"], \"at1g37130\"=>\"At1g37130\", \"at5g15850\"=>[\"At3g02150\", \"At5g17300\"], \"at5g17300\"=>[\"At1g60250\", \"At1g71030\"], \"at3g48360\"=>[\"At4g09570\", \"At3g54050\"], \"at1g71030\"=>[\"At1g60250\", \"At5g17300\"], \"at1g76080\"=>[\"At1g31880\", \"At1g37130\"], \"at4g02770\"=>[\"At4g37260\", \"At4g09650\"], \"at1g14280\"=>[\"At1g31880\", \"At1g37130\"]}"
      ]
     },
     "execution_count": 5,
     "metadata": {},
     "output_type": "execute_result"
    }
   ],
   "source": [
    "InteractionNetwork.load"
   ]
  },
  {
   "cell_type": "code",
   "execution_count": 6,
   "metadata": {},
   "outputs": [
    {
     "data": {
      "text/plain": [
       "[#<InteractionNetwork:0x000056319dd680d8 @network=1, @members=[\"At4g32570\", \"At1g37130\", \"at4g09650\", \"At4g37260\", \"At4g02770\", \"at1g03130\", \"At3g15030\", \"At5g17300\", \"at4g17460\"], @kegg_path=[], @go_terms=[[\"GO:0031347\", \"regulation of defense response\"], [\"GO:2000022\", \"regulation of jasmonic acid mediated signaling pathway\"], [\"GO:0009611\", \"response to wounding\"]]>, #<InteractionNetwork:0x000056319dba1308 @network=2, @members=[\"At4g32570\", \"At1g37130\", \"at4g09650\", \"At4g37260\", \"At4g02770\", \"at1g03130\", \"At3g15030\", \"At5g17300\", \"at4g17460\"], @kegg_path=[], @go_terms=[[\"GO:0031347\", \"regulation of defense response\"], [\"GO:2000022\", \"regulation of jasmonic acid mediated signaling pathway\"], [\"GO:0009611\", \"response to wounding\"]]>, #<InteractionNetwork:0x000056319dcc17d8 @network=3, @members=[\"At4g32570\", \"At1g37130\", \"at4g09650\", \"At4g37260\", \"At4g02770\", \"at1g03130\", \"At3g15030\", \"At5g17300\", \"at4g17460\"], @kegg_path=[], @go_terms=[[\"GO:0031347\", \"regulation of defense response\"], [\"GO:2000022\", \"regulation of jasmonic acid mediated signaling pathway\"], [\"GO:0009611\", \"response to wounding\"]]>, #<InteractionNetwork:0x000056319dc848b0 @network=4, @members=[\"at1g37130\", \"At1g37130\", \"At3g02150\", \"At5g17300\", \"at5g15850\", \"At1g60250\", \"At1g71030\", \"at5g17300\", \"At4g09570\", \"At3g54050\", \"at3g48360\", \"At1g60250\", \"At5g17300\", \"at1g71030\", \"At1g31880\", \"At1g37130\", \"at1g76080\", \"At4g37260\", \"At4g09650\", \"at4g02770\", \"At1g31880\", \"At1g37130\", \"at1g14280\"], @kegg_path=[[\"ath00910\", \"Nitrogen metabolism\"], [\"ath01100\", \"Metabolic pathways\"]], @go_terms=[[\"GO:0042128\", \"nitrate assimilation\"], [\"GO:0006809\", \"nitric oxide biosynthetic process\"], [\"GO:0009635\", \"response to herbicide\"], [\"GO:0009416\", \"response to light stimulus\"], [\"GO:0009610\", \"response to symbiotic fungus\"]]>, #<InteractionNetwork:0x000056319dc2cac0 @network=5, @members=[\"at1g37130\", \"At1g37130\", \"At3g02150\", \"At5g17300\", \"at5g15850\", \"At1g60250\", \"At1g71030\", \"at5g17300\", \"At4g09570\", \"At3g54050\", \"at3g48360\", \"At1g60250\", \"At5g17300\", \"at1g71030\", \"At1g31880\", \"At1g37130\", \"at1g76080\", \"At4g37260\", \"At4g09650\", \"at4g02770\", \"At1g31880\", \"At1g37130\", \"at1g14280\"], @kegg_path=[[\"ath00910\", \"Nitrogen metabolism\"], [\"ath01100\", \"Metabolic pathways\"]], @go_terms=[[\"GO:0042128\", \"nitrate assimilation\"], [\"GO:0006809\", \"nitric oxide biosynthetic process\"], [\"GO:0009635\", \"response to herbicide\"], [\"GO:0009416\", \"response to light stimulus\"], [\"GO:0009610\", \"response to symbiotic fungus\"]]>, #<InteractionNetwork:0x000056319dbd4870 @network=6, @members=[\"at1g37130\", \"At1g37130\", \"At3g02150\", \"At5g17300\", \"at5g15850\", \"At1g60250\", \"At1g71030\", \"at5g17300\", \"At4g09570\", \"At3g54050\", \"at3g48360\", \"At1g60250\", \"At5g17300\", \"at1g71030\", \"At1g31880\", \"At1g37130\", \"at1g76080\", \"At4g37260\", \"At4g09650\", \"at4g02770\", \"At1g31880\", \"At1g37130\", \"at1g14280\"], @kegg_path=[[\"ath00910\", \"Nitrogen metabolism\"], [\"ath01100\", \"Metabolic pathways\"]], @go_terms=[[\"GO:0042128\", \"nitrate assimilation\"], [\"GO:0006809\", \"nitric oxide biosynthetic process\"], [\"GO:0009635\", \"response to herbicide\"], [\"GO:0009416\", \"response to light stimulus\"], [\"GO:0009610\", \"response to symbiotic fungus\"]]>, #<InteractionNetwork:0x000056319da680b8 @network=7, @members=[\"at1g37130\", \"At1g37130\", \"At3g02150\", \"At5g17300\", \"at5g15850\", \"At1g60250\", \"At1g71030\", \"at5g17300\", \"At4g09570\", \"At3g54050\", \"at3g48360\", \"At1g60250\", \"At5g17300\", \"at1g71030\", \"At1g31880\", \"At1g37130\", \"at1g76080\", \"At4g37260\", \"At4g09650\", \"at4g02770\", \"At1g31880\", \"At1g37130\", \"at1g14280\"], @kegg_path=[[\"ath00910\", \"Nitrogen metabolism\"], [\"ath01100\", \"Metabolic pathways\"]], @go_terms=[[\"GO:0042128\", \"nitrate assimilation\"], [\"GO:0006809\", \"nitric oxide biosynthetic process\"], [\"GO:0009635\", \"response to herbicide\"], [\"GO:0009416\", \"response to light stimulus\"], [\"GO:0009610\", \"response to symbiotic fungus\"]]>, #<InteractionNetwork:0x000056319d8ef470 @network=8, @members=[\"at1g37130\", \"At1g37130\", \"At3g02150\", \"At5g17300\", \"at5g15850\", \"At1g60250\", \"At1g71030\", \"at5g17300\", \"At4g09570\", \"At3g54050\", \"at3g48360\", \"At1g60250\", \"At5g17300\", \"at1g71030\", \"At1g31880\", \"At1g37130\", \"at1g76080\", \"At4g37260\", \"At4g09650\", \"at4g02770\", \"At1g31880\", \"At1g37130\", \"at1g14280\"], @kegg_path=[[\"ath00910\", \"Nitrogen metabolism\"], [\"ath01100\", \"Metabolic pathways\"]], @go_terms=[[\"GO:0042128\", \"nitrate assimilation\"], [\"GO:0006809\", \"nitric oxide biosynthetic process\"], [\"GO:0009635\", \"response to herbicide\"], [\"GO:0009416\", \"response to light stimulus\"], [\"GO:0009610\", \"response to symbiotic fungus\"]]>, #<InteractionNetwork:0x000056319cfe4ab0 @network=9, @members=[\"at1g37130\", \"At1g37130\", \"At3g02150\", \"At5g17300\", \"at5g15850\", \"At1g60250\", \"At1g71030\", \"at5g17300\", \"At4g09570\", \"At3g54050\", \"at3g48360\", \"At1g60250\", \"At5g17300\", \"at1g71030\", \"At1g31880\", \"At1g37130\", \"at1g76080\", \"At4g37260\", \"At4g09650\", \"at4g02770\", \"At1g31880\", \"At1g37130\", \"at1g14280\"], @kegg_path=[[\"ath00910\", \"Nitrogen metabolism\"], [\"ath01100\", \"Metabolic pathways\"]], @go_terms=[[\"GO:0042128\", \"nitrate assimilation\"], [\"GO:0006809\", \"nitric oxide biosynthetic process\"], [\"GO:0009635\", \"response to herbicide\"], [\"GO:0009416\", \"response to light stimulus\"], [\"GO:0009610\", \"response to symbiotic fungus\"]]>, #<InteractionNetwork:0x000056319d43d968 @network=10, @members=[\"at1g37130\", \"At1g37130\", \"At3g02150\", \"At5g17300\", \"at5g15850\", \"At1g60250\", \"At1g71030\", \"at5g17300\", \"At4g09570\", \"At3g54050\", \"at3g48360\", \"At1g60250\", \"At5g17300\", \"at1g71030\", \"At1g31880\", \"At1g37130\", \"at1g76080\", \"At4g37260\", \"At4g09650\", \"at4g02770\", \"At1g31880\", \"At1g37130\", \"at1g14280\"], @kegg_path=[[\"ath00910\", \"Nitrogen metabolism\"], [\"ath01100\", \"Metabolic pathways\"]], @go_terms=[[\"GO:0042128\", \"nitrate assimilation\"], [\"GO:0006809\", \"nitric oxide biosynthetic process\"], [\"GO:0009635\", \"response to herbicide\"], [\"GO:0009416\", \"response to light stimulus\"], [\"GO:0009610\", \"response to symbiotic fungus\"]]>, #<InteractionNetwork:0x000056319dfb6b50 @network=11, @members=[\"at1g37130\", \"At1g37130\", \"At3g02150\", \"At5g17300\", \"at5g15850\", \"At1g60250\", \"At1g71030\", \"at5g17300\", \"At4g09570\", \"At3g54050\", \"at3g48360\", \"At1g60250\", \"At5g17300\", \"at1g71030\", \"At1g31880\", \"At1g37130\", \"at1g76080\", \"At4g37260\", \"At4g09650\", \"at4g02770\", \"At1g31880\", \"At1g37130\", \"at1g14280\"], @kegg_path=[[\"ath00910\", \"Nitrogen metabolism\"], [\"ath01100\", \"Metabolic pathways\"]], @go_terms=[[\"GO:0042128\", \"nitrate assimilation\"], [\"GO:0006809\", \"nitric oxide biosynthetic process\"], [\"GO:0009635\", \"response to herbicide\"], [\"GO:0009416\", \"response to light stimulus\"], [\"GO:0009610\", \"response to symbiotic fungus\"]]>]"
      ]
     },
     "execution_count": 6,
     "metadata": {},
     "output_type": "execute_result"
    }
   ],
   "source": [
    "InteractionNetwork.get_all"
   ]
  },
  {
   "cell_type": "code",
   "execution_count": null,
   "metadata": {},
   "outputs": [],
   "source": []
  }
 ],
 "metadata": {
  "kernelspec": {
   "display_name": "Ruby 2.5.1",
   "language": "ruby",
   "name": "ruby"
  },
  "language_info": {
   "file_extension": ".rb",
   "mimetype": "application/x-ruby",
   "name": "ruby",
   "version": "2.5.1"
  }
 },
 "nbformat": 4,
 "nbformat_minor": 2
}
