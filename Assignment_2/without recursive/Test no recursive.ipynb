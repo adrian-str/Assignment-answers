{
 "cells": [
  {
   "cell_type": "code",
   "execution_count": null,
   "metadata": {},
   "outputs": [],
   "source": []
  },
  {
   "cell_type": "code",
   "execution_count": null,
   "metadata": {},
   "outputs": [],
   "source": [
    "require 'rest-client'\n",
    "res = fetch(\"http://www.ebi.ac.uk/Tools/webservices/psicquic/intact/webservices/current/search/interactor/AT3g61260%20AND%20species:arath/?format=tab25\")\n",
    "          score=/i\\w+-\\w+:(0\\.\\d+)/\n",
    "          if res\n",
    "            intact=res.body.split(\"\\n\")\n",
    "            intact.is_a?(Array)\n",
    "            intact.each do |int|\n",
    "             g1,g2=int.scan(/(A[Tt]\\d[Gg]\\d\\d\\d\\d\\d)\\(locus\\sname\\)/)[1] \n",
    "                puts g1\n",
    "                puts g2\n",
    "                puts\n",
    "                \n",
    "                \n",
    "              \n",
    "            end  \n",
    "          end "
   ]
  },
  {
   "cell_type": "code",
   "execution_count": 1,
   "metadata": {},
   "outputs": [
    {
     "data": {
      "text/plain": [
       "true"
      ]
     },
     "execution_count": 1,
     "metadata": {},
     "output_type": "execute_result"
    }
   ],
   "source": [
    "require './InteractionNetwork'"
   ]
  },
  {
   "cell_type": "code",
   "execution_count": 2,
   "metadata": {},
   "outputs": [
    {
     "data": {
      "text/plain": [
       "[\"at1g71030\", \"at3g54050\", \"at1g60250\", \"at1g14280\", \"at2g43100\", \"at4g09010\", \"at5g49360\", \"at1g30380\", \"at1g78460\", \"at3g16140\", \"at4g12310\", \"at5g01530\", \"at5g58260\"]"
      ]
     },
     "execution_count": 2,
     "metadata": {},
     "output_type": "execute_result"
    }
   ],
   "source": [
    "InteractionNetwork.get_agi('./sublist.txt')"
   ]
  },
  {
   "cell_type": "code",
   "execution_count": 3,
   "metadata": {},
   "outputs": [
    {
     "data": {
      "text/plain": [
       "[\"at1g71030\", \"at3g54050\", \"at1g60250\", \"at1g14280\", \"at2g43100\", \"at4g09010\", \"at5g49360\", \"at1g30380\", \"at1g78460\", \"at3g16140\", \"at4g12310\", \"at5g01530\", \"at5g58260\"]"
      ]
     },
     "execution_count": 3,
     "metadata": {},
     "output_type": "execute_result"
    }
   ],
   "source": [
    "InteractionNetwork.search_interactors"
   ]
  },
  {
   "cell_type": "code",
   "execution_count": 4,
   "metadata": {},
   "outputs": [
    {
     "data": {
      "text/plain": [
       "{}"
      ]
     },
     "execution_count": 4,
     "metadata": {},
     "output_type": "execute_result"
    }
   ],
   "source": [
    "InteractionNetwork.get_interacting"
   ]
  },
  {
   "cell_type": "code",
   "execution_count": 5,
   "metadata": {},
   "outputs": [
    {
     "data": {
      "text/plain": [
       "{}"
      ]
     },
     "execution_count": 5,
     "metadata": {},
     "output_type": "execute_result"
    }
   ],
   "source": [
    "InteractionNetwork.load"
   ]
  },
  {
   "cell_type": "code",
   "execution_count": 6,
   "metadata": {},
   "outputs": [
    {
     "data": {
      "text/plain": [
       "[#<InteractionNetwork:0x000056319dd680d8 @network=1, @members=[\"At4g32570\", \"At1g37130\", \"at4g09650\", \"At4g37260\", \"At4g02770\", \"at1g03130\", \"At3g15030\", \"At5g17300\", \"at4g17460\"], @kegg_path=[], @go_terms=[[\"GO:0031347\", \"regulation of defense response\"], [\"GO:2000022\", \"regulation of jasmonic acid mediated signaling pathway\"], [\"GO:0009611\", \"response to wounding\"]]>, #<InteractionNetwork:0x000056319dba1308 @network=2, @members=[\"At4g32570\", \"At1g37130\", \"at4g09650\", \"At4g37260\", \"At4g02770\", \"at1g03130\", \"At3g15030\", \"At5g17300\", \"at4g17460\"], @kegg_path=[], @go_terms=[[\"GO:0031347\", \"regulation of defense response\"], [\"GO:2000022\", \"regulation of jasmonic acid mediated signaling pathway\"], [\"GO:0009611\", \"response to wounding\"]]>, #<InteractionNetwork:0x000056319dcc17d8 @network=3, @members=[\"At4g32570\", \"At1g37130\", \"at4g09650\", \"At4g37260\", \"At4g02770\", \"at1g03130\", \"At3g15030\", \"At5g17300\", \"at4g17460\"], @kegg_path=[], @go_terms=[[\"GO:0031347\", \"regulation of defense response\"], [\"GO:2000022\", \"regulation of jasmonic acid mediated signaling pathway\"], [\"GO:0009611\", \"response to wounding\"]]>, #<InteractionNetwork:0x000056319dc848b0 @network=4, @members=[\"at1g37130\", \"At1g37130\", \"At3g02150\", \"At5g17300\", \"at5g15850\", \"At1g60250\", \"At1g71030\", \"at5g17300\", \"At4g09570\", \"At3g54050\", \"at3g48360\", \"At1g60250\", \"At5g17300\", \"at1g71030\", \"At1g31880\", \"At1g37130\", \"at1g76080\", \"At4g37260\", \"At4g09650\", \"at4g02770\", \"At1g31880\", \"At1g37130\", \"at1g14280\"], @kegg_path=[[\"ath00910\", \"Nitrogen metabolism\"], [\"ath01100\", \"Metabolic pathways\"]], @go_terms=[[\"GO:0042128\", \"nitrate assimilation\"], [\"GO:0006809\", \"nitric oxide biosynthetic process\"], [\"GO:0009635\", \"response to herbicide\"], [\"GO:0009416\", \"response to light stimulus\"], [\"GO:0009610\", \"response to symbiotic fungus\"]]>, #<InteractionNetwork:0x000056319dc2cac0 @network=5, @members=[\"at1g37130\", \"At1g37130\", \"At3g02150\", \"At5g17300\", \"at5g15850\", \"At1g60250\", \"At1g71030\", \"at5g17300\", \"At4g09570\", \"At3g54050\", \"at3g48360\", \"At1g60250\", \"At5g17300\", \"at1g71030\", \"At1g31880\", \"At1g37130\", \"at1g76080\", \"At4g37260\", \"At4g09650\", \"at4g02770\", \"At1g31880\", \"At1g37130\", \"at1g14280\"], @kegg_path=[[\"ath00910\", \"Nitrogen metabolism\"], [\"ath01100\", \"Metabolic pathways\"]], @go_terms=[[\"GO:0042128\", \"nitrate assimilation\"], [\"GO:0006809\", \"nitric oxide biosynthetic process\"], [\"GO:0009635\", \"response to herbicide\"], [\"GO:0009416\", \"response to light stimulus\"], [\"GO:0009610\", \"response to symbiotic fungus\"]]>, #<InteractionNetwork:0x000056319dbd4870 @network=6, @members=[\"at1g37130\", \"At1g37130\", \"At3g02150\", \"At5g17300\", \"at5g15850\", \"At1g60250\", \"At1g71030\", \"at5g17300\", \"At4g09570\", \"At3g54050\", \"at3g48360\", \"At1g60250\", \"At5g17300\", \"at1g71030\", \"At1g31880\", \"At1g37130\", \"at1g76080\", \"At4g37260\", \"At4g09650\", \"at4g02770\", \"At1g31880\", \"At1g37130\", \"at1g14280\"], @kegg_path=[[\"ath00910\", \"Nitrogen metabolism\"], [\"ath01100\", \"Metabolic pathways\"]], @go_terms=[[\"GO:0042128\", \"nitrate assimilation\"], [\"GO:0006809\", \"nitric oxide biosynthetic process\"], [\"GO:0009635\", \"response to herbicide\"], [\"GO:0009416\", \"response to light stimulus\"], [\"GO:0009610\", \"response to symbiotic fungus\"]]>, #<InteractionNetwork:0x000056319da680b8 @network=7, @members=[\"at1g37130\", \"At1g37130\", \"At3g02150\", \"At5g17300\", \"at5g15850\", \"At1g60250\", \"At1g71030\", \"at5g17300\", \"At4g09570\", \"At3g54050\", \"at3g48360\", \"At1g60250\", \"At5g17300\", \"at1g71030\", \"At1g31880\", \"At1g37130\", \"at1g76080\", \"At4g37260\", \"At4g09650\", \"at4g02770\", \"At1g31880\", \"At1g37130\", \"at1g14280\"], @kegg_path=[[\"ath00910\", \"Nitrogen metabolism\"], [\"ath01100\", \"Metabolic pathways\"]], @go_terms=[[\"GO:0042128\", \"nitrate assimilation\"], [\"GO:0006809\", \"nitric oxide biosynthetic process\"], [\"GO:0009635\", \"response to herbicide\"], [\"GO:0009416\", \"response to light stimulus\"], [\"GO:0009610\", \"response to symbiotic fungus\"]]>, #<InteractionNetwork:0x000056319d8ef470 @network=8, @members=[\"at1g37130\", \"At1g37130\", \"At3g02150\", \"At5g17300\", \"at5g15850\", \"At1g60250\", \"At1g71030\", \"at5g17300\", \"At4g09570\", \"At3g54050\", \"at3g48360\", \"At1g60250\", \"At5g17300\", \"at1g71030\", \"At1g31880\", \"At1g37130\", \"at1g76080\", \"At4g37260\", \"At4g09650\", \"at4g02770\", \"At1g31880\", \"At1g37130\", \"at1g14280\"], @kegg_path=[[\"ath00910\", \"Nitrogen metabolism\"], [\"ath01100\", \"Metabolic pathways\"]], @go_terms=[[\"GO:0042128\", \"nitrate assimilation\"], [\"GO:0006809\", \"nitric oxide biosynthetic process\"], [\"GO:0009635\", \"response to herbicide\"], [\"GO:0009416\", \"response to light stimulus\"], [\"GO:0009610\", \"response to symbiotic fungus\"]]>, #<InteractionNetwork:0x000056319cfe4ab0 @network=9, @members=[\"at1g37130\", \"At1g37130\", \"At3g02150\", \"At5g17300\", \"at5g15850\", \"At1g60250\", \"At1g71030\", \"at5g17300\", \"At4g09570\", \"At3g54050\", \"at3g48360\", \"At1g60250\", \"At5g17300\", \"at1g71030\", \"At1g31880\", \"At1g37130\", \"at1g76080\", \"At4g37260\", \"At4g09650\", \"at4g02770\", \"At1g31880\", \"At1g37130\", \"at1g14280\"], @kegg_path=[[\"ath00910\", \"Nitrogen metabolism\"], [\"ath01100\", \"Metabolic pathways\"]], @go_terms=[[\"GO:0042128\", \"nitrate assimilation\"], [\"GO:0006809\", \"nitric oxide biosynthetic process\"], [\"GO:0009635\", \"response to herbicide\"], [\"GO:0009416\", \"response to light stimulus\"], [\"GO:0009610\", \"response to symbiotic fungus\"]]>, #<InteractionNetwork:0x000056319d43d968 @network=10, @members=[\"at1g37130\", \"At1g37130\", \"At3g02150\", \"At5g17300\", \"at5g15850\", \"At1g60250\", \"At1g71030\", \"at5g17300\", \"At4g09570\", \"At3g54050\", \"at3g48360\", \"At1g60250\", \"At5g17300\", \"at1g71030\", \"At1g31880\", \"At1g37130\", \"at1g76080\", \"At4g37260\", \"At4g09650\", \"at4g02770\", \"At1g31880\", \"At1g37130\", \"at1g14280\"], @kegg_path=[[\"ath00910\", \"Nitrogen metabolism\"], [\"ath01100\", \"Metabolic pathways\"]], @go_terms=[[\"GO:0042128\", \"nitrate assimilation\"], [\"GO:0006809\", \"nitric oxide biosynthetic process\"], [\"GO:0009635\", \"response to herbicide\"], [\"GO:0009416\", \"response to light stimulus\"], [\"GO:0009610\", \"response to symbiotic fungus\"]]>, #<InteractionNetwork:0x000056319dfb6b50 @network=11, @members=[\"at1g37130\", \"At1g37130\", \"At3g02150\", \"At5g17300\", \"at5g15850\", \"At1g60250\", \"At1g71030\", \"at5g17300\", \"At4g09570\", \"At3g54050\", \"at3g48360\", \"At1g60250\", \"At5g17300\", \"at1g71030\", \"At1g31880\", \"At1g37130\", \"at1g76080\", \"At4g37260\", \"At4g09650\", \"at4g02770\", \"At1g31880\", \"At1g37130\", \"at1g14280\"], @kegg_path=[[\"ath00910\", \"Nitrogen metabolism\"], [\"ath01100\", \"Metabolic pathways\"]], @go_terms=[[\"GO:0042128\", \"nitrate assimilation\"], [\"GO:0006809\", \"nitric oxide biosynthetic process\"], [\"GO:0009635\", \"response to herbicide\"], [\"GO:0009416\", \"response to light stimulus\"], [\"GO:0009610\", \"response to symbiotic fungus\"]]>]"
      ]
     },
     "execution_count": 6,
     "metadata": {},
     "output_type": "execute_result"
    }
   ],
   "source": [
    "InteractionNetwork.get_all"
   ]
  },
  {
   "cell_type": "code",
   "execution_count": null,
   "metadata": {},
   "outputs": [],
   "source": []
  }
 ],
 "metadata": {
  "kernelspec": {
   "display_name": "Ruby 2.5.1",
   "language": "ruby",
   "name": "ruby"
  },
  "language_info": {
   "file_extension": ".rb",
   "mimetype": "application/x-ruby",
   "name": "ruby",
   "version": "2.5.1"
  }
 },
 "nbformat": 4,
 "nbformat_minor": 2
}
