{
 "cells": [
  {
   "cell_type": "code",
   "execution_count": null,
   "metadata": {},
   "outputs": [],
   "source": [
    "\n",
    "def fetch(url, headers = {accept: \"*/*\"}, user = \"\", pass=\"\")\n",
    "    response = RestClient::Request.execute({\n",
    "      method: :get,\n",
    "      url: url.to_s,\n",
    "      user: user,\n",
    "      password: pass,\n",
    "      headers: headers})\n",
    "    return response\n",
    "    \n",
    "    rescue RestClient::ExceptionWithResponse => e\n",
    "      $stderr.puts e.inspect\n",
    "      response = false\n",
    "      return response  # now we are returning 'False', and we will check that with an \\\"if\\\" statement in our main code\n",
    "    rescue RestClient::Exception => e\n",
    "      $stderr.puts e.inspect\n",
    "      response = false\n",
    "      return response  # now we are returning 'False', and we will check that with an \\\"if\\\" statement in our main code\n",
    "    rescue Exception => e\n",
    "      $stderr.puts e.inspect\n",
    "      response = false\n",
    "      return response  # now we are returning 'False', and we will check that with an \\\"if\\\" statement in our main code\n",
    "end"
   ]
  },
  {
   "cell_type": "code",
   "execution_count": null,
   "metadata": {},
   "outputs": [],
   "source": [
    "require 'rest-client'\n",
    "res = fetch(\"http://www.ebi.ac.uk/Tools/webservices/psicquic/intact/webservices/current/search/interactor/AT3g61260%20AND%20species:arath/?format=tab25\")\n",
    "          score=/i\\w+-\\w+:(0\\.\\d+)/\n",
    "          if res\n",
    "            intact=res.body.split(\"\\n\")\n",
    "            intact.is_a?(Array)\n",
    "            intact.each do |int|\n",
    "             g1,g2=int.scan(/(A[Tt]\\d[Gg]\\d\\d\\d\\d\\d)\\(locus\\sname\\)/)[1] \n",
    "                puts g1\n",
    "                puts g2\n",
    "                puts\n",
    "                \n",
    "                \n",
    "              \n",
    "            end  \n",
    "          end "
   ]
  },
  {
   "cell_type": "code",
   "execution_count": 1,
   "metadata": {},
   "outputs": [
    {
     "data": {
      "text/plain": [
       "true"
      ]
     },
     "execution_count": 1,
     "metadata": {},
     "output_type": "execute_result"
    }
   ],
   "source": [
    "require './InteractionNetwork'"
   ]
  },
  {
   "cell_type": "code",
   "execution_count": 2,
   "metadata": {},
   "outputs": [
    {
     "data": {
      "text/plain": [
       "[\"at1g71030\", \"at3g54050\", \"at1g60250\"]"
      ]
     },
     "execution_count": 2,
     "metadata": {},
     "output_type": "execute_result"
    }
   ],
   "source": [
    "InteractionNetwork.get_agi('./sublist.txt')"
   ]
  },
  {
   "cell_type": "code",
   "execution_count": null,
   "metadata": {},
   "outputs": [],
   "source": [
    "InteractionNetwork.search_interactors"
   ]
  },
  {
   "cell_type": "code",
   "execution_count": 4,
   "metadata": {},
   "outputs": [
    {
     "data": {
      "text/plain": [
       "{\"at1g71030\"=>\"At1g60250\", \"at1g60250\"=>\"At1g71030\"}"
      ]
     },
     "execution_count": 4,
     "metadata": {},
     "output_type": "execute_result"
    }
   ],
   "source": [
    "InteractionNetwork.get_interacting"
   ]
  },
  {
   "cell_type": "code",
   "execution_count": null,
   "metadata": {},
   "outputs": [],
   "source": [
    "InteractionNetwork.load"
   ]
  }
 ],
 "metadata": {
  "kernelspec": {
   "display_name": "Ruby 2.5.1",
   "language": "ruby",
   "name": "ruby"
  },
  "language_info": {
   "file_extension": ".rb",
   "mimetype": "application/x-ruby",
   "name": "ruby",
   "version": "2.5.1"
  }
 },
 "nbformat": 4,
 "nbformat_minor": 2
}
