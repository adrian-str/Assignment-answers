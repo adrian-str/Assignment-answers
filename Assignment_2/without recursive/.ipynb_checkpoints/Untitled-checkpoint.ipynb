{
 "cells": [
  {
   "cell_type": "code",
   "execution_count": null,
   "metadata": {},
   "outputs": [],
   "source": [
    "\n",
    "def fetch(url, headers = {accept: \"*/*\"}, user = \"\", pass=\"\")\n",
    "    response = RestClient::Request.execute({\n",
    "      method: :get,\n",
    "      url: url.to_s,\n",
    "      user: user,\n",
    "      password: pass,\n",
    "      headers: headers})\n",
    "    return response\n",
    "    \n",
    "    rescue RestClient::ExceptionWithResponse => e\n",
    "      $stderr.puts e.inspect\n",
    "      response = false\n",
    "      return response  # now we are returning 'False', and we will check that with an \\\"if\\\" statement in our main code\n",
    "    rescue RestClient::Exception => e\n",
    "      $stderr.puts e.inspect\n",
    "      response = false\n",
    "      return response  # now we are returning 'False', and we will check that with an \\\"if\\\" statement in our main code\n",
    "    rescue Exception => e\n",
    "      $stderr.puts e.inspect\n",
    "      response = false\n",
    "      return response  # now we are returning 'False', and we will check that with an \\\"if\\\" statement in our main code\n",
    "end"
   ]
  },
  {
   "cell_type": "code",
   "execution_count": null,
   "metadata": {},
   "outputs": [],
   "source": [
    "require 'rest-client'\n",
    "res = fetch(\"http://www.ebi.ac.uk/Tools/webservices/psicquic/intact/webservices/current/search/interactor/AT3g61260%20AND%20species:arath/?format=tab25\")\n",
    "          score=/i\\w+-\\w+:(0\\.\\d+)/\n",
    "          if res\n",
    "            intact=res.body.split(\"\\n\")\n",
    "            intact.is_a?(Array)\n",
    "            intact.each do |int|\n",
    "             g1,g2=int.scan(/(A[Tt]\\d[Gg]\\d\\d\\d\\d\\d)\\(locus\\sname\\)/)[1] \n",
    "                puts g1\n",
    "                puts g2\n",
    "                puts\n",
    "                \n",
    "                \n",
    "              \n",
    "            end  \n",
    "          end "
   ]
  },
  {
   "cell_type": "code",
   "execution_count": 2,
   "metadata": {},
   "outputs": [
    {
     "data": {
      "text/plain": [
       "true"
      ]
     },
     "execution_count": 2,
     "metadata": {},
     "output_type": "execute_result"
    }
   ],
   "source": [
    "require './InteractionNetwork'"
   ]
  },
  {
   "cell_type": "code",
   "execution_count": 3,
   "metadata": {},
   "outputs": [
    {
     "data": {
      "text/plain": [
       "[\"at4g27030\", \"at5g54270\", \"at1g21400\", \"at5g19120\", \"at2g13360\", \"at4g05180\", \"at1g22690\", \"at2g45170\", \"at4g09650\", \"at5g55620\", \"at1g31330\", \"at1g80440\", \"at3g28270\", \"at4g12800\", \"at5g04140\", \"at5g64040\", \"at1g29660\", \"at1g15820\", \"at1g64500\", \"at1g03130\", \"at2g20670\", \"at4g17090\", \"at1g23740\", \"at2g46340\", \"at4g17460\", \"at1g07010\", \"at1g32220\", \"at2g03750\", \"at3g47470\", \"at4g12830\", \"at5g05690\", \"at5g64410\", \"at2g21330\", \"at1g15980\", \"at2g01890\", \"at1g12250\", \"at2g21210\", \"at4g28660\", \"at1g52230\", \"at3g18890\", \"at4g22890\", \"at1g11850\", \"at1g37130\", \"at2g04039\", \"at3g48420\", \"at4g19170\", \"at5g07020\", \"at5g65010\", \"at3g01500\", \"at1g25230\", \"at2g34430\", \"at1g18060\", \"at2g30600\", \"at4g33010\", \"at1g65490\", \"at3g21670\", \"at4g27260\", \"at1g12780\", \"at1g55480\", \"at2g17880\", \"at3g49160\", \"at4g21210\", \"at5g14740\", \"at4g37980\", \"at1g29395\", \"at2g39730\", \"at1g20020\", \"at2g34420\", \"at4g37800\", \"at1g70820\", \"at3g26740\", \"at4g28780\", \"at1g12900\", \"at1g64680\", \"at2g25200\", \"at3g55800\", \"at4g21280\", \"at5g15850\", \"at1g06680\", \"at2g43550\", \"at3g02730\", \"at1g42970\", \"at2g39470\", \"at5g17300\", \"at1g77490\", \"at3g27690\", \"at5g01015\", \"at1g14150\", \"at1g64720\", \"at2g26080\", \"at3g56940\", \"at4g28030\", \"at5g20250\", \"at1g54040\", \"at3g21870\", \"at3g48360\", \"at1g61520\", \"at2g43010\", \"at5g22920\", \"at1g78370\", \"at3g28220\", \"at5g11070\", \"at1g23205\", \"at1g68010\", \"at2g26740\", \"at3g61470\", \"at4g28750\", \"at5g24210\", \"at1g71030\", \"at3g54050\", \"at3g54890\", \"at1g72610\", \"at3g08940\", \"at5g62280\", \"at2g18700\", \"at3g45780\", \"at5g18670\", \"at1g28330\", \"at1g68570\", \"at2g30950\", \"at3g62410\", \"at4g33660\", \"at5g35170\", \"at3g16250\", \"at1g09340\", \"at3g63140\", \"at1g76080\", \"at3g46780\", \"at1g02640\", \"at2g33830\", \"at3g47340\", \"at5g35630\", \"at1g29910\", \"at1g69870\", \"at2g47930\", \"at4g02530\", \"at4g38840\", \"at5g43750\", \"at3g50820\", \"at1g13930\", \"at4g37610\", \"at1g76100\", \"at3g61260\", \"at1g08380\", \"at2g38210\", \"at4g04640\", \"at5g38990\", \"at1g29920\", \"at1g74730\", \"at3g05730\", \"at4g02770\", \"at4g39710\", \"at5g48300\", \"at5g48490\", \"at1g20440\", \"at5g02160\", \"at2g05540\", \"at3g62550\", \"at1g14280\", \"at2g43100\", \"at4g09010\", \"at5g49360\", \"at1g30380\", \"at1g78460\", \"at3g16140\", \"at4g12310\", \"at5g01530\", \"at5g58260\"]"
      ]
     },
     "execution_count": 3,
     "metadata": {},
     "output_type": "execute_result"
    }
   ],
   "source": [
    "InteractionNetwork.get_agi('./ArabidopsisSubNetwork_GeneList.txt')"
   ]
  },
  {
   "cell_type": "code",
   "execution_count": 4,
   "metadata": {},
   "outputs": [
    {
     "data": {
      "text/plain": [
       "[\"at4g27030\", \"at5g54270\", \"at1g21400\", \"at5g19120\", \"at2g13360\", \"at4g05180\", \"at1g22690\", \"at2g45170\", \"at4g09650\", \"at5g55620\", \"at1g31330\", \"at1g80440\", \"at3g28270\", \"at4g12800\", \"at5g04140\", \"at5g64040\", \"at1g29660\", \"at1g15820\", \"at1g64500\", \"at1g03130\", \"at2g20670\", \"at4g17090\", \"at1g23740\", \"at2g46340\", \"at4g17460\", \"at1g07010\", \"at1g32220\", \"at2g03750\", \"at3g47470\", \"at4g12830\", \"at5g05690\", \"at5g64410\", \"at2g21330\", \"at1g15980\", \"at2g01890\", \"at1g12250\", \"at2g21210\", \"at4g28660\", \"at1g52230\", \"at3g18890\", \"at4g22890\", \"at1g11850\", \"at1g37130\", \"at2g04039\", \"at3g48420\", \"at4g19170\", \"at5g07020\", \"at5g65010\", \"at3g01500\", \"at1g25230\", \"at2g34430\", \"at1g18060\", \"at2g30600\", \"at4g33010\", \"at1g65490\", \"at3g21670\", \"at4g27260\", \"at1g12780\", \"at1g55480\", \"at2g17880\", \"at3g49160\", \"at4g21210\", \"at5g14740\", \"at4g37980\", \"at1g29395\", \"at2g39730\", \"at1g20020\", \"at2g34420\", \"at4g37800\", \"at1g70820\", \"at3g26740\", \"at4g28780\", \"at1g12900\", \"at1g64680\", \"at2g25200\", \"at3g55800\", \"at4g21280\", \"at5g15850\", \"at1g06680\", \"at2g43550\", \"at3g02730\", \"at1g42970\", \"at2g39470\", \"at5g17300\", \"at1g77490\", \"at3g27690\", \"at5g01015\", \"at1g14150\", \"at1g64720\", \"at2g26080\", \"at3g56940\", \"at4g28030\", \"at5g20250\", \"at1g54040\", \"at3g21870\", \"at3g48360\", \"at1g61520\", \"at2g43010\", \"at5g22920\", \"at1g78370\", \"at3g28220\", \"at5g11070\", \"at1g23205\", \"at1g68010\", \"at2g26740\", \"at3g61470\", \"at4g28750\", \"at5g24210\", \"at1g71030\", \"at3g54050\", \"at3g54890\", \"at1g72610\", \"at3g08940\", \"at5g62280\", \"at2g18700\", \"at3g45780\", \"at5g18670\", \"at1g28330\", \"at1g68570\", \"at2g30950\", \"at3g62410\", \"at4g33660\", \"at5g35170\", \"at3g16250\", \"at1g09340\", \"at3g63140\", \"at1g76080\", \"at3g46780\", \"at1g02640\", \"at2g33830\", \"at3g47340\", \"at5g35630\", \"at1g29910\", \"at1g69870\", \"at2g47930\", \"at4g02530\", \"at4g38840\", \"at5g43750\", \"at3g50820\", \"at1g13930\", \"at4g37610\", \"at1g76100\", \"at3g61260\", \"at1g08380\", \"at2g38210\", \"at4g04640\", \"at5g38990\", \"at1g29920\", \"at1g74730\", \"at3g05730\", \"at4g02770\", \"at4g39710\", \"at5g48300\", \"at5g48490\", \"at1g20440\", \"at5g02160\", \"at2g05540\", \"at3g62550\", \"at1g14280\", \"at2g43100\", \"at4g09010\", \"at5g49360\", \"at1g30380\", \"at1g78460\", \"at3g16140\", \"at4g12310\", \"at5g01530\", \"at5g58260\"]"
      ]
     },
     "execution_count": 4,
     "metadata": {},
     "output_type": "execute_result"
    }
   ],
   "source": [
    "InteractionNetwork.search_interactors"
   ]
  },
  {
   "cell_type": "code",
   "execution_count": 5,
   "metadata": {},
   "outputs": [
    {
     "data": {
      "text/plain": [
       "{\"at4g09650\"=>[\"At4g37260\", \"At1g03130\"], \"at1g03130\"=>[\"At4g37260\", \"At4g09650\"], \"at4g17460\"=>[\"At3g07220\", \"At5g15850\"], \"at1g37130\"=>[\"At4g32570\", \"At4g09650\"], \"at5g15850\"=>[\"At3g07220\", \"At4g17460\"], \"at5g17300\"=>[\"At3g15030\", \"At4g17460\"], \"at3g48360\"=>[\"At4g09570\", \"At3g54050\"], \"at1g71030\"=>[\"At1g60250\", \"At5g17300\"], \"at1g76080\"=>[\"At1g31880\", \"At4g02770\"], \"at4g02770\"=>[\"At1g31880\", \"At1g76080\"], \"at1g14280\"=>[\"At1g31880\", \"At1g76080\"]}"
      ]
     },
     "execution_count": 5,
     "metadata": {},
     "output_type": "execute_result"
    }
   ],
   "source": [
    "InteractionNetwork.get_interacting"
   ]
  },
  {
   "cell_type": "code",
   "execution_count": 6,
   "metadata": {},
   "outputs": [
    {
     "data": {
      "text/plain": [
       "{\"at4g09650\"=>[\"At4g37260\", \"At1g03130\"], \"at1g03130\"=>[\"At4g37260\", \"At4g09650\"], \"at4g17460\"=>[\"At3g07220\", \"At5g15850\"], \"at1g37130\"=>[\"At4g32570\", \"At4g09650\"], \"at5g15850\"=>[\"At3g07220\", \"At4g17460\"], \"at5g17300\"=>[\"At3g15030\", \"At4g17460\"], \"at3g48360\"=>[\"At4g09570\", \"At3g54050\"], \"at1g71030\"=>[\"At1g60250\", \"At5g17300\"], \"at1g76080\"=>[\"At1g31880\", \"At4g02770\"], \"at4g02770\"=>[\"At1g31880\", \"At1g76080\"], \"at1g14280\"=>[\"At1g31880\", \"At1g76080\"]}"
      ]
     },
     "execution_count": 6,
     "metadata": {},
     "output_type": "execute_result"
    }
   ],
   "source": [
    "InteractionNetwork.load"
   ]
  },
  {
   "cell_type": "code",
   "execution_count": 7,
   "metadata": {},
   "outputs": [
    {
     "data": {
      "text/plain": [
       "[#<InteractionNetwork:0x0000556f094c2d90 @network=1, @members=[\"at4g09650\", [\"At4g37260\", \"At1g03130\"]], @kegg_path=nil, @go_terms=[[\"GO:0042742\", \"defense response to bacterium\"], [\"GO:0015979\", \"photosynthesis\"], [\"GO:0009773\", \"photosynthetic electron transport in photosystem I\"], [\"GO:0009772\", \"photosynthetic electron transport in photosystem II\"], [\"GO:0009409\", \"response to cold\"], [\"GO:0035556\", \"intracellular signal transduction\"]]>, #<InteractionNetwork:0x0000556f09377260 @network=2, @members=[\"at1g03130\", [\"At4g37260\", \"At4g09650\"]], @kegg_path=nil, @go_terms=[[\"GO:0015979\", \"photosynthesis\"]]>, #<InteractionNetwork:0x0000556f08e2f528 @network=3, @members=[\"at4g17460\", [\"At3g07220\", \"At5g15850\"]], @kegg_path=nil, @go_terms=[[\"GO:0003006\", \"developmental process involved in reproduction\"], [\"GO:0010582\", \"floral meristem determinacy\"], [\"GO:0080127\", \"fruit septum development\"], [\"GO:0048467\", \"gynoecium development\"]]>, #<InteractionNetwork:0x0000556f08a31e80 @network=4, @members=[\"at1g37130\", [\"At4g32570\", \"At4g09650\"]], @kegg_path=nil, @go_terms=[[\"GO:0042128\", \"nitrate assimilation\"], [\"GO:0006809\", \"nitric oxide biosynthetic process\"], [\"GO:0009635\", \"response to herbicide\"], [\"GO:0009416\", \"response to light stimulus\"], [\"GO:0009610\", \"response to symbiotic fungus\"]]>, #<InteractionNetwork:0x0000556f099faa60 @network=5, @members=[\"at5g15850\", [\"At3g07220\", \"At4g17460\"]], @kegg_path=nil, @go_terms=[[\"GO:0009909\", \"regulation of flower development\"], [\"GO:0000398\", \"mRNA splicing, via spliceosome\"]]>, #<InteractionNetwork:0x0000556f0999a278 @network=6, @members=[\"at5g17300\", [\"At3g15030\", \"At4g17460\"]], @kegg_path=nil, @go_terms=[[\"GO:0009734\", \"auxin-activated signaling pathway\"], [\"GO:0007623\", \"circadian rhythm\"], [\"GO:0010600\", \"regulation of auxin biosynthetic process\"], [\"GO:0006355\", \"regulation of transcription, DNA-templated\"], [\"GO:0016567\", \"protein ubiquitination\"]]>, #<InteractionNetwork:0x0000556f0992a0e0 @network=7, @members=[\"at3g48360\", [\"At4g09570\", \"At3g54050\"]], @kegg_path=nil, @go_terms=[[\"GO:0009738\", \"abscisic acid-activated signaling pathway\"], [\"GO:0009734\", \"auxin-activated signaling pathway\"], [\"GO:0007623\", \"circadian rhythm\"], [\"GO:0009553\", \"embryo sac development\"], [\"GO:0009555\", \"pollen development\"], [\"GO:0051973\", \"positive regulation of telomerase activity\"], [\"GO:0016567\", \"protein ubiquitination\"], [\"GO:0006355\", \"regulation of transcription, DNA-templated\"], [\"GO:0009737\", \"response to abscisic acid\"], [\"GO:0009733\", \"response to auxin\"], [\"GO:0009743\", \"response to carbohydrate\"], [\"GO:0009409\", \"response to cold\"], [\"GO:0042542\", \"response to hydrogen peroxide\"], [\"GO:0009753\", \"response to jasmonic acid\"], [\"GO:0010167\", \"response to nitrate\"], [\"GO:0009751\", \"response to salicylic acid\"], [\"GO:0009651\", \"response to salt stress\"], [\"GO:0009611\", \"response to wounding\"], [\"GO:0010182\", \"sugar mediated signaling pathway\"], [\"GO:0006857\", \"oligopeptide transport\"]]>, #<InteractionNetwork:0x0000556f098ae238 @network=8, @members=[\"at1g71030\", [\"At1g60250\", \"At5g17300\"]], @kegg_path=nil, @go_terms=[[\"GO:0009718\", \"anthocyanin-containing compound biosynthetic process\"], [\"GO:0010023\", \"proanthocyanidin biosynthetic process\"], [\"GO:0030154\", \"cell differentiation\"]]>, #<InteractionNetwork:0x0000556f0984fdc8 @network=9, @members=[\"at1g76080\", [\"At1g31880\", \"At4g02770\"]], @kegg_path=nil, @go_terms=[[\"GO:0045454\", \"cell redox homeostasis\"], [\"GO:0006979\", \"response to oxidative stress\"], [\"GO:0009414\", \"response to water deprivation\"]]>, #<InteractionNetwork:0x0000556f098007f0 @network=10, @members=[\"at4g02770\", [\"At1g31880\", \"At1g76080\"]], @kegg_path=nil, @go_terms=[[\"GO:0015979\", \"photosynthesis\"], [\"GO:0035556\", \"intracellular signal transduction\"]]>, #<InteractionNetwork:0x0000556f097954f0 @network=11, @members=[\"at1g14280\", [\"At1g31880\", \"At1g76080\"]], @kegg_path=nil, @go_terms=[[\"GO:0048366\", \"leaf development\"], [\"GO:0009638\", \"phototropism\"], [\"GO:0009585\", \"red, far-red light phototransduction\"]]>]"
      ]
     },
     "execution_count": 7,
     "metadata": {},
     "output_type": "execute_result"
    }
   ],
   "source": [
    "InteractionNetwork.get_all"
   ]
  },
  {
   "cell_type": "code",
   "execution_count": null,
   "metadata": {},
   "outputs": [],
   "source": []
  }
 ],
 "metadata": {
  "kernelspec": {
   "display_name": "Ruby 2.5.1",
   "language": "ruby",
   "name": "ruby"
  },
  "language_info": {
   "file_extension": ".rb",
   "mimetype": "application/x-ruby",
   "name": "ruby",
   "version": "2.5.1"
  }
 },
 "nbformat": 4,
 "nbformat_minor": 2
}
