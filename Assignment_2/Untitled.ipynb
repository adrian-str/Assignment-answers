{
 "cells": [
  {
   "cell_type": "code",
   "execution_count": 1,
   "metadata": {},
   "outputs": [
    {
     "data": {
      "text/plain": [
       ":fetch"
      ]
     },
     "execution_count": 1,
     "metadata": {},
     "output_type": "execute_result"
    }
   ],
   "source": [
    "\n",
    "def fetch(url, headers = {accept: \"*/*\"}, user = \"\", pass=\"\")\n",
    "    response = RestClient::Request.execute({\n",
    "      method: :get,\n",
    "      url: url.to_s,\n",
    "      user: user,\n",
    "      password: pass,\n",
    "      headers: headers})\n",
    "    return response\n",
    "    \n",
    "    rescue RestClient::ExceptionWithResponse => e\n",
    "      $stderr.puts e.inspect\n",
    "      response = false\n",
    "      return response  # now we are returning 'False', and we will check that with an \\\"if\\\" statement in our main code\n",
    "    rescue RestClient::Exception => e\n",
    "      $stderr.puts e.inspect\n",
    "      response = false\n",
    "      return response  # now we are returning 'False', and we will check that with an \\\"if\\\" statement in our main code\n",
    "    rescue Exception => e\n",
    "      $stderr.puts e.inspect\n",
    "      response = false\n",
    "      return response  # now we are returning 'False', and we will check that with an \\\"if\\\" statement in our main code\n",
    "end"
   ]
  },
  {
   "cell_type": "code",
   "execution_count": null,
   "metadata": {},
   "outputs": [
    {
     "ename": "NoMethodError",
     "evalue": "undefined method `Array?' for #<Array:0x0000564b40115eb8>",
     "output_type": "error",
     "traceback": [
      "\u001b[31mNoMethodError\u001b[0m: undefined method `Array?' for #<Array:0x0000564b40115eb8>",
      "(pry):338:in `<main>'",
      "/var/lib/gems/2.5.0/gems/pry-0.13.1/lib/pry/pry_instance.rb:290:in `eval'",
      "/var/lib/gems/2.5.0/gems/pry-0.13.1/lib/pry/pry_instance.rb:290:in `evaluate_ruby'",
      "/var/lib/gems/2.5.0/gems/pry-0.13.1/lib/pry/pry_instance.rb:659:in `handle_line'",
      "/var/lib/gems/2.5.0/gems/pry-0.13.1/lib/pry/pry_instance.rb:261:in `block (2 levels) in eval'",
      "/var/lib/gems/2.5.0/gems/pry-0.13.1/lib/pry/pry_instance.rb:260:in `catch'",
      "/var/lib/gems/2.5.0/gems/pry-0.13.1/lib/pry/pry_instance.rb:260:in `block in eval'",
      "/var/lib/gems/2.5.0/gems/pry-0.13.1/lib/pry/pry_instance.rb:259:in `catch'",
      "/var/lib/gems/2.5.0/gems/pry-0.13.1/lib/pry/pry_instance.rb:259:in `eval'",
      "/var/lib/gems/2.5.0/gems/iruby-0.4.0/lib/iruby/backend.rb:66:in `eval'",
      "/var/lib/gems/2.5.0/gems/iruby-0.4.0/lib/iruby/backend.rb:12:in `eval'",
      "/var/lib/gems/2.5.0/gems/iruby-0.4.0/lib/iruby/kernel.rb:90:in `execute_request'",
      "/var/lib/gems/2.5.0/gems/iruby-0.4.0/lib/iruby/kernel.rb:49:in `dispatch'",
      "/var/lib/gems/2.5.0/gems/iruby-0.4.0/lib/iruby/kernel.rb:38:in `run'",
      "/var/lib/gems/2.5.0/gems/iruby-0.4.0/lib/iruby/command.rb:110:in `run_kernel'",
      "/var/lib/gems/2.5.0/gems/iruby-0.4.0/lib/iruby/command.rb:40:in `run'",
      "/var/lib/gems/2.5.0/gems/iruby-0.4.0/bin/iruby:5:in `<main>'"
     ]
    }
   ],
   "source": [
    "require 'rest-client'\n",
    "res = fetch(\"http://www.ebi.ac.uk/Tools/webservices/psicquic/intact/webservices/current/search/interactor/AT3g61260%20AND%20species:arath/?format=tab25\")\n",
    "          score=/i\\w+-\\w+:(0\\.\\d+)/\n",
    "          if res\n",
    "            intact=res.body.split(\"\\n\")\n",
    "            intact.is_a?(Array)\n",
    "            intact.each do |int|\n",
    "             g1,g2=int.scan(/(A[Tt]\\d[Gg]\\d\\d\\d\\d\\d)\\(locus\\sname\\)/)[1] \n",
    "                puts g1\n",
    "                puts g2\n",
    "                puts\n",
    "                \n",
    "                \n",
    "              \n",
    "            end  \n",
    "          end "
   ]
  },
  {
   "cell_type": "code",
   "execution_count": null,
   "metadata": {},
   "outputs": [],
   "source": []
  },
  {
   "cell_type": "code",
   "execution_count": null,
   "metadata": {},
   "outputs": [],
   "source": []
  }
 ],
 "metadata": {
  "kernelspec": {
   "display_name": "Ruby 2.5.1",
   "language": "ruby",
   "name": "ruby"
  },
  "language_info": {
   "file_extension": ".rb",
   "mimetype": "application/x-ruby",
   "name": "ruby",
   "version": "2.5.1"
  }
 },
 "nbformat": 4,
 "nbformat_minor": 2
}
