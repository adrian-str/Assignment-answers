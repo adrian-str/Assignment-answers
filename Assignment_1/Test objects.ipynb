{
 "cells": [
  {
   "cell_type": "code",
   "execution_count": 1,
   "metadata": {},
   "outputs": [
    {
     "data": {
      "text/plain": [
       "true"
      ]
     },
     "execution_count": 1,
     "metadata": {},
     "output_type": "execute_result"
    }
   ],
   "source": [
    "require './GenesClass'\n",
    "require './Seed_stock'\n",
    "require './Cross'"
   ]
  },
  {
   "cell_type": "code",
   "execution_count": 2,
   "metadata": {
    "scrolled": true
   },
   "outputs": [
    {
     "data": {
      "text/plain": [
       "[\"A334\\tA348\\t110\\t33\\t38\\t11\\n\", \"A348\\tB3334\\t80\\t26\\t29\\t8\\n\", \"B3334\\tA51\\t99\\t36\\t34\\t12\\n\", \"A51\\tB52\\t152\\t26\\t22\\t2\\n\", \"B52\\tA334\\t75\\t22\\t30\\t7\\n\"]"
      ]
     },
     "execution_count": 2,
     "metadata": {},
     "output_type": "execute_result"
    }
   ],
   "source": [
    "Gene.get_genes(\"./StockDatabaseDataFiles/gene_information.tsv\")\n",
    "Seed_stock.load_from_file(\"./StockDatabaseDataFiles/seed_stock_data.tsv\")\n",
    "Cross.get_data(\"./StockDatabaseDataFiles/cross_data.tsv\")"
   ]
  },
  {
   "cell_type": "code",
   "execution_count": null,
   "metadata": {},
   "outputs": [
    {
     "name": "stdout",
     "output_type": "stream",
     "text": [
      "192.0\n",
      "[108.0, 36.0, 36.0, 12.0]\n",
      "[110.0, 33.0, 38.0, 11.0]\n",
      "[110.0, 33.0, 38.0, 11.0]\n"
     ]
    },
    {
     "ename": "NoMethodError",
     "evalue": "undefined method `**' for [110.0, 33.0, 38.0, 11.0]:Array\nDid you mean?  *",
     "output_type": "error",
     "traceback": [
      "\u001b[31mNoMethodError\u001b[0m: undefined method `**' for [110.0, 33.0, 38.0, 11.0]:Array\nDid you mean?  *",
      "/home/osboxes/Bioinformatics_Challenges/Assignment/Assignment-answers/Assignment_1/Cross.rb:50:in `block (2 levels) in chi2'",
      "/home/osboxes/Bioinformatics_Challenges/Assignment/Assignment-answers/Assignment_1/Cross.rb:50:in `map'",
      "/home/osboxes/Bioinformatics_Challenges/Assignment/Assignment-answers/Assignment_1/Cross.rb:50:in `block in chi2'",
      "/home/osboxes/Bioinformatics_Challenges/Assignment/Assignment-answers/Assignment_1/Cross.rb:41:in `each'",
      "/home/osboxes/Bioinformatics_Challenges/Assignment/Assignment-answers/Assignment_1/Cross.rb:41:in `chi2'",
      "(pry):7:in `<main>'",
      "/var/lib/gems/2.5.0/gems/pry-0.13.1/lib/pry/pry_instance.rb:290:in `eval'",
      "/var/lib/gems/2.5.0/gems/pry-0.13.1/lib/pry/pry_instance.rb:290:in `evaluate_ruby'",
      "/var/lib/gems/2.5.0/gems/pry-0.13.1/lib/pry/pry_instance.rb:659:in `handle_line'",
      "/var/lib/gems/2.5.0/gems/pry-0.13.1/lib/pry/pry_instance.rb:261:in `block (2 levels) in eval'",
      "/var/lib/gems/2.5.0/gems/pry-0.13.1/lib/pry/pry_instance.rb:260:in `catch'",
      "/var/lib/gems/2.5.0/gems/pry-0.13.1/lib/pry/pry_instance.rb:260:in `block in eval'",
      "/var/lib/gems/2.5.0/gems/pry-0.13.1/lib/pry/pry_instance.rb:259:in `catch'",
      "/var/lib/gems/2.5.0/gems/pry-0.13.1/lib/pry/pry_instance.rb:259:in `eval'",
      "/var/lib/gems/2.5.0/gems/iruby-0.4.0/lib/iruby/backend.rb:66:in `eval'",
      "/var/lib/gems/2.5.0/gems/iruby-0.4.0/lib/iruby/backend.rb:12:in `eval'",
      "/var/lib/gems/2.5.0/gems/iruby-0.4.0/lib/iruby/kernel.rb:90:in `execute_request'",
      "/var/lib/gems/2.5.0/gems/iruby-0.4.0/lib/iruby/kernel.rb:49:in `dispatch'",
      "/var/lib/gems/2.5.0/gems/iruby-0.4.0/lib/iruby/kernel.rb:38:in `run'",
      "/var/lib/gems/2.5.0/gems/iruby-0.4.0/lib/iruby/command.rb:110:in `run_kernel'",
      "/var/lib/gems/2.5.0/gems/iruby-0.4.0/lib/iruby/command.rb:40:in `run'",
      "/var/lib/gems/2.5.0/gems/iruby-0.4.0/bin/iruby:5:in `<main>'"
     ]
    }
   ],
   "source": [
    "Cross.chi2"
   ]
  },
  {
   "cell_type": "code",
   "execution_count": 3,
   "metadata": {},
   "outputs": [
    {
     "data": {
      "text/plain": [
       "[#<Gene:0x000055bd8eff0158 @gene_ID=\"AT1G69120\", @gene_name=\"ap1\", @mut_phenotype=\"\\\"meristems replace first and second whorl\\\"\">, #<Gene:0x000055bd8efdbaa0 @gene_ID=\"AT4G36920\", @gene_name=\"ap2\", @mut_phenotype=\"\\\"first whorl carpels, second whorl stamens\\\"\">, #<Gene:0x000055bd8efdb550 @gene_ID=\"AT3G54340\", @gene_name=\"ap3\", @mut_phenotype=\"\\\"second whorl sepals, third whorl carpels\\\"\">, #<Gene:0x000055bd8efdb000 @gene_ID=\"AT1G30950\", @gene_name=\"ufo\", @mut_phenotype=\"\\\"second whorl sepaloidy, third whorl missing or carpeloid\\\"\">, #<Gene:0x000055bd8efda268 @gene_ID=\"AT5G20240\", @gene_name=\"pi\", @mut_phenotype=\"\\\"second whorl sepals, third whorl carpels\\\"\">]"
      ]
     },
     "execution_count": 3,
     "metadata": {},
     "output_type": "execute_result"
    }
   ],
   "source": [
    "Gene.get_all"
   ]
  },
  {
   "cell_type": "code",
   "execution_count": 3,
   "metadata": {},
   "outputs": [
    {
     "data": {
      "text/plain": [
       "[#<Cross:0x0000561e5cb59c78 @parent1=\"A334\", @parent2=\"A348\", @f2_wild=\"110\", @f2_p1=\"33\", @f2_p2=\"38\", @f2_p1p2=\"11\", @seed_stock1=#<Seed_stock:0x0000561e5cb60d98 @seed_stock=\"A334\", @id=\"AT1G69120\", @last_planted=\"5/7/2014\", @storage=\"cama2\", @grams=\"28\", @gene=#<Gene:0x0000561e5cb63f20 @gene_ID=\"AT1G69120\", @gene_name=\"ap1\", @mut_phenotype=\"\\\"meristems replace first and second whorl\\\"\">>, @seed_stock2=#<Seed_stock:0x0000561e5cb5b5a0 @seed_stock=\"A348\", @id=\"AT4G36920\", @last_planted=\"3/11/2013\", @storage=\"cama25\", @grams=\"12\", @gene=#<Gene:0x0000561e5cb639f8 @gene_ID=\"AT4G36920\", @gene_name=\"ap2\", @mut_phenotype=\"\\\"first whorl carpels, second whorl stamens\\\"\">>>, #<Cross:0x0000561e5cb59098 @parent1=\"A348\", @parent2=\"B3334\", @f2_wild=\"80\", @f2_p1=\"26\", @f2_p2=\"29\", @f2_p1p2=\"8\", @seed_stock1=#<Seed_stock:0x0000561e5cb5b5a0 @seed_stock=\"A348\", @id=\"AT4G36920\", @last_planted=\"3/11/2013\", @storage=\"cama25\", @grams=\"12\", @gene=#<Gene:0x0000561e5cb639f8 @gene_ID=\"AT4G36920\", @gene_name=\"ap2\", @mut_phenotype=\"\\\"first whorl carpels, second whorl stamens\\\"\">>, @seed_stock2=#<Seed_stock:0x0000561e5cb5b230 @seed_stock=\"B3334\", @id=\"AT3G54340\", @last_planted=\"1/12/2014\", @storage=\"cama18\", @grams=\"22\", @gene=#<Gene:0x0000561e5cb632c8 @gene_ID=\"AT3G54340\", @gene_name=\"ap3\", @mut_phenotype=\"\\\"second whorl sepals, third whorl carpels\\\"\">>>, #<Cross:0x0000561e5cb5a330 @parent1=\"B3334\", @parent2=\"A51\", @f2_wild=\"99\", @f2_p1=\"36\", @f2_p2=\"34\", @f2_p1p2=\"12\", @seed_stock1=#<Seed_stock:0x0000561e5cb5b230 @seed_stock=\"B3334\", @id=\"AT3G54340\", @last_planted=\"1/12/2014\", @storage=\"cama18\", @grams=\"22\", @gene=#<Gene:0x0000561e5cb632c8 @gene_ID=\"AT3G54340\", @gene_name=\"ap3\", @mut_phenotype=\"\\\"second whorl sepals, third whorl carpels\\\"\">>, @seed_stock2=#<Seed_stock:0x0000561e5cb5a830 @seed_stock=\"A51\", @id=\"AT1G30950\", @last_planted=\"9/2/2013\", @storage=\"cama25\", @grams=\"5\", @gene=#<Gene:0x0000561e5cb62b20 @gene_ID=\"AT1G30950\", @gene_name=\"ufo\", @mut_phenotype=\"\\\"second whorl sepaloidy, third whorl missing or carpeloid\\\"\">>>, #<Cross:0x0000561e5cb3f328 @parent1=\"A51\", @parent2=\"B52\", @f2_wild=\"152\", @f2_p1=\"26\", @f2_p2=\"22\", @f2_p1p2=\"2\", @seed_stock1=#<Seed_stock:0x0000561e5cb5a830 @seed_stock=\"A51\", @id=\"AT1G30950\", @last_planted=\"9/2/2013\", @storage=\"cama25\", @grams=\"5\", @gene=#<Gene:0x0000561e5cb62b20 @gene_ID=\"AT1G30950\", @gene_name=\"ufo\", @mut_phenotype=\"\\\"second whorl sepaloidy, third whorl missing or carpeloid\\\"\">>, @seed_stock2=#<Seed_stock:0x0000561e5cb5a470 @seed_stock=\"B52\", @id=\"AT5G20240\", @last_planted=\"8/11/2012\", @storage=\"cama16\", @grams=\"7\", @gene=#<Gene:0x0000561e5cb62418 @gene_ID=\"AT5G20240\", @gene_name=\"pi\", @mut_phenotype=\"\\\"second whorl sepals, third whorl carpels\\\"\">>>, #<Cross:0x0000561e5cb3e798 @parent1=\"B52\", @parent2=\"A334\", @f2_wild=\"75\", @f2_p1=\"22\", @f2_p2=\"30\", @f2_p1p2=\"7\", @seed_stock1=#<Seed_stock:0x0000561e5cb5a470 @seed_stock=\"B52\", @id=\"AT5G20240\", @last_planted=\"8/11/2012\", @storage=\"cama16\", @grams=\"7\", @gene=#<Gene:0x0000561e5cb62418 @gene_ID=\"AT5G20240\", @gene_name=\"pi\", @mut_phenotype=\"\\\"second whorl sepals, third whorl carpels\\\"\">>, @seed_stock2=#<Seed_stock:0x0000561e5cb60d98 @seed_stock=\"A334\", @id=\"AT1G69120\", @last_planted=\"5/7/2014\", @storage=\"cama2\", @grams=\"28\", @gene=#<Gene:0x0000561e5cb63f20 @gene_ID=\"AT1G69120\", @gene_name=\"ap1\", @mut_phenotype=\"\\\"meristems replace first and second whorl\\\"\">>>]"
      ]
     },
     "execution_count": 3,
     "metadata": {},
     "output_type": "execute_result"
    }
   ],
   "source": [
    "Cross.get_crosses"
   ]
  },
  {
   "cell_type": "code",
   "execution_count": 4,
   "metadata": {},
   "outputs": [
    {
     "name": "stdout",
     "output_type": "stream",
     "text": [
      "WARNING: we have run out of Seed stock A51\n",
      "WARNING: we have run out of Seed stock B52\n"
     ]
    },
    {
     "data": {
      "text/plain": [
       "[#<Seed_stock:0x0000557aed283080 @seed_stock=\"A51\", @id=\"AT1G30950\", @last_planted=\"9/2/2013\", @storage=\"cama25\", @grams=\"5\", @gene=#<Gene:0x0000557aed2a60f8 @gene_ID=\"AT1G30950\", @gene_name=\"ufo\", @mut_phenotype=\"\\\"second whorl sepaloidy, third whorl missing or carpeloid\\\"\">>, #<Seed_stock:0x0000557aed282798 @seed_stock=\"B52\", @id=\"AT5G20240\", @last_planted=\"8/11/2012\", @storage=\"cama16\", @grams=\"7\", @gene=#<Gene:0x0000557aed2a5d88 @gene_ID=\"AT5G20240\", @gene_name=\"pi\", @mut_phenotype=\"\\\"second whorl sepals, third whorl carpels\\\"\">>]"
      ]
     },
     "execution_count": 4,
     "metadata": {},
     "output_type": "execute_result"
    }
   ],
   "source": [
    "Seed_stock.plant(7)"
   ]
  },
  {
   "cell_type": "code",
   "execution_count": null,
   "metadata": {},
   "outputs": [],
   "source": []
  }
 ],
 "metadata": {
  "kernelspec": {
   "display_name": "Ruby 2.5.1",
   "language": "ruby",
   "name": "ruby"
  },
  "language_info": {
   "file_extension": ".rb",
   "mimetype": "application/x-ruby",
   "name": "ruby",
   "version": "2.5.1"
  }
 },
 "nbformat": 4,
 "nbformat_minor": 2
}
