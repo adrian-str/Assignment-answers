{
 "cells": [
  {
   "cell_type": "code",
   "execution_count": 2,
   "metadata": {},
   "outputs": [
    {
     "data": {
      "text/plain": [
       "false"
      ]
     },
     "execution_count": 2,
     "metadata": {},
     "output_type": "execute_result"
    }
   ],
   "source": [
    "require './GenesClass'\n",
    "require './Seed_stock'\n",
    "require './Cross'"
   ]
  },
  {
   "cell_type": "code",
   "execution_count": 3,
   "metadata": {
    "scrolled": false
   },
   "outputs": [
    {
     "name": "stdout",
     "output_type": "stream",
     "text": [
      "\n",
      "\n",
      "\n",
      "\n",
      "\n",
      "\n"
     ]
    }
   ],
   "source": [
    "Gene.get_genes(\"./gene_information.tsv\")\n",
    "Seed_stock.load_from_file(\"./seed_stock_data.tsv\")\n",
    "Cross.get_data(\"./cross_data.tsv\")"
   ]
  },
  {
   "cell_type": "code",
   "execution_count": 4,
   "metadata": {},
   "outputs": [
    {
     "name": "stdout",
     "output_type": "stream",
     "text": [
      "Recording: ufo is genetically linked to pi with Chisquare score: 32.27942794279428.\n",
      "\n"
     ]
    },
    {
     "data": {
      "text/plain": [
       "[]"
      ]
     },
     "execution_count": 4,
     "metadata": {},
     "output_type": "execute_result"
    }
   ],
   "source": [
    "Cross.chi2"
   ]
  },
  {
   "cell_type": "code",
   "execution_count": 5,
   "metadata": {},
   "outputs": [
    {
     "name": "stdout",
     "output_type": "stream",
     "text": [
      "ufo is linked to pi\n",
      "pi is linked to ufo\n"
     ]
    },
    {
     "data": {
      "text/plain": [
       "[#<Gene:0x000055dee89a1d80 @gene_ID=\"AT1G69120\", @gene_name=\"ap1\", @mut_phenotype=\"\\\"meristems replace first and second whorl\\\"\", @linked_to=\"none\">, #<Gene:0x000055dee89975d8 @gene_ID=\"AT4G36920\", @gene_name=\"ap2\", @mut_phenotype=\"\\\"first whorl carpels, second whorl stamens\\\"\", @linked_to=\"none\">, #<Gene:0x000055dee8994298 @gene_ID=\"AT3G54340\", @gene_name=\"ap3\", @mut_phenotype=\"\\\"second whorl sepals, third whorl carpels\\\"\", @linked_to=\"none\">, #<Gene:0x000055dee8986508 @gene_ID=\"AT1G30950\", @gene_name=\"ufo\", @mut_phenotype=\"\\\"second whorl sepaloidy, third whorl missing or carpeloid\\\"\", @linked_to=\"pi\">, #<Gene:0x000055dee8963e90 @gene_ID=\"AT5G20240\", @gene_name=\"pi\", @mut_phenotype=\"\\\"second whorl sepals, third whorl carpels\\\"\", @linked_to=\"ufo\">]"
      ]
     },
     "execution_count": 5,
     "metadata": {},
     "output_type": "execute_result"
    }
   ],
   "source": [
    "Gene.get_links"
   ]
  },
  {
   "cell_type": "code",
   "execution_count": 4,
   "metadata": {},
   "outputs": [
    {
     "data": {
      "text/plain": [
       "#<Seed_stock:0x0000561726d1d2e0 @seed_stock=\"A334\", @id=\"AT1G69120\", @last_planted=\"5/7/2014\", @storage=\"cama2\", @grams=\"28\", @gene=#<Gene:0x0000561726d59a60 @gene_ID=\"AT1G69120\", @gene_name=\"ap1\", @mut_phenotype=\"\\\"meristems replace first and second whorl\\\"\", @linked_to=\"none\">>"
      ]
     },
     "execution_count": 4,
     "metadata": {},
     "output_type": "execute_result"
    }
   ],
   "source": [
    " Seed_stock.get_seed_stock(\"A334\")"
   ]
  },
  {
   "cell_type": "code",
   "execution_count": null,
   "metadata": {},
   "outputs": [],
   "source": [
    "Seed_stock.plant(7)"
   ]
  },
  {
   "cell_type": "code",
   "execution_count": null,
   "metadata": {},
   "outputs": [],
   "source": [
    "Seed_stock.update('new_stock_file.tsv')"
   ]
  },
  {
   "cell_type": "code",
   "execution_count": 6,
   "metadata": {},
   "outputs": [
    {
     "data": {
      "text/plain": [
       "[#<Cross:0x0000561726d0b450 @parent1=\"A334\", @parent2=\"A348\", @f2_wild=\"110\", @f2_p1=\"33\", @f2_p2=\"38\", @f2_p1p2=\"11\", @seed_stock1=#<Seed_stock:0x0000561726d1d2e0 @seed_stock=\"A334\", @id=\"AT1G69120\", @last_planted=\"5/7/2014\", @storage=\"cama2\", @grams=\"28\", @gene=#<Gene:0x0000561726d59a60 @gene_ID=\"AT1G69120\", @gene_name=\"ap1\", @mut_phenotype=\"\\\"meristems replace first and second whorl\\\"\", @linked_to=\"none\">>, @seed_stock2=#<Seed_stock:0x0000561726d1c8e0 @seed_stock=\"A348\", @id=\"AT4G36920\", @last_planted=\"3/11/2013\", @storage=\"cama25\", @grams=\"12\", @gene=#<Gene:0x0000561726d3a458 @gene_ID=\"AT4G36920\", @gene_name=\"ap2\", @mut_phenotype=\"\\\"first whorl carpels, second whorl stamens\\\"\", @linked_to=\"none\">>>, #<Cross:0x0000561726d0aca8 @parent1=\"A348\", @parent2=\"B3334\", @f2_wild=\"80\", @f2_p1=\"26\", @f2_p2=\"29\", @f2_p1p2=\"8\", @seed_stock1=#<Seed_stock:0x0000561726d1c8e0 @seed_stock=\"A348\", @id=\"AT4G36920\", @last_planted=\"3/11/2013\", @storage=\"cama25\", @grams=\"12\", @gene=#<Gene:0x0000561726d3a458 @gene_ID=\"AT4G36920\", @gene_name=\"ap2\", @mut_phenotype=\"\\\"first whorl carpels, second whorl stamens\\\"\", @linked_to=\"none\">>, @seed_stock2=#<Seed_stock:0x0000561726d1c4a8 @seed_stock=\"B3334\", @id=\"AT3G54340\", @last_planted=\"1/12/2014\", @storage=\"cama18\", @grams=\"22\", @gene=#<Gene:0x0000561726d2b110 @gene_ID=\"AT3G54340\", @gene_name=\"ap3\", @mut_phenotype=\"\\\"second whorl sepals, third whorl carpels\\\"\", @linked_to=\"none\">>>, #<Cross:0x0000561726d0a230 @parent1=\"B3334\", @parent2=\"A51\", @f2_wild=\"99\", @f2_p1=\"36\", @f2_p2=\"34\", @f2_p1p2=\"12\", @seed_stock1=#<Seed_stock:0x0000561726d1c4a8 @seed_stock=\"B3334\", @id=\"AT3G54340\", @last_planted=\"1/12/2014\", @storage=\"cama18\", @grams=\"22\", @gene=#<Gene:0x0000561726d2b110 @gene_ID=\"AT3G54340\", @gene_name=\"ap3\", @mut_phenotype=\"\\\"second whorl sepals, third whorl carpels\\\"\", @linked_to=\"none\">>, @seed_stock2=#<Seed_stock:0x0000561726d1c660 @seed_stock=\"A51\", @id=\"AT1G30950\", @last_planted=\"9/2/2013\", @storage=\"cama25\", @grams=\"5\", @gene=#<Gene:0x0000561726d22b50 @gene_ID=\"AT1G30950\", @gene_name=\"ufo\", @mut_phenotype=\"\\\"second whorl sepaloidy, third whorl missing or carpeloid\\\"\", @linked_to=\"none\">>>, #<Cross:0x0000561726d09a10 @parent1=\"A51\", @parent2=\"B52\", @f2_wild=\"152\", @f2_p1=\"26\", @f2_p2=\"22\", @f2_p1p2=\"2\", @seed_stock1=#<Seed_stock:0x0000561726d1c660 @seed_stock=\"A51\", @id=\"AT1G30950\", @last_planted=\"9/2/2013\", @storage=\"cama25\", @grams=\"5\", @gene=#<Gene:0x0000561726d22b50 @gene_ID=\"AT1G30950\", @gene_name=\"ufo\", @mut_phenotype=\"\\\"second whorl sepaloidy, third whorl missing or carpeloid\\\"\", @linked_to=\"none\">>, @seed_stock2=#<Seed_stock:0x0000561726d0bba8 @seed_stock=\"B52\", @id=\"AT5G20240\", @last_planted=\"8/11/2012\", @storage=\"cama16\", @grams=\"7\", @gene=#<Gene:0x0000561726d20878 @gene_ID=\"AT5G20240\", @gene_name=\"pi\", @mut_phenotype=\"\\\"second whorl sepals, third whorl carpels\\\"\", @linked_to=\"none\">>>, #<Cross:0x0000561726d09100 @parent1=\"B52\", @parent2=\"A334\", @f2_wild=\"75\", @f2_p1=\"22\", @f2_p2=\"30\", @f2_p1p2=\"7\", @seed_stock1=#<Seed_stock:0x0000561726d0bba8 @seed_stock=\"B52\", @id=\"AT5G20240\", @last_planted=\"8/11/2012\", @storage=\"cama16\", @grams=\"7\", @gene=#<Gene:0x0000561726d20878 @gene_ID=\"AT5G20240\", @gene_name=\"pi\", @mut_phenotype=\"\\\"second whorl sepals, third whorl carpels\\\"\", @linked_to=\"none\">>, @seed_stock2=#<Seed_stock:0x0000561726d1d2e0 @seed_stock=\"A334\", @id=\"AT1G69120\", @last_planted=\"5/7/2014\", @storage=\"cama2\", @grams=\"28\", @gene=#<Gene:0x0000561726d59a60 @gene_ID=\"AT1G69120\", @gene_name=\"ap1\", @mut_phenotype=\"\\\"meristems replace first and second whorl\\\"\", @linked_to=\"none\">>>]"
      ]
     },
     "execution_count": 6,
     "metadata": {},
     "output_type": "execute_result"
    }
   ],
   "source": [
    "Cross.get_crosses"
   ]
  },
  {
   "cell_type": "code",
   "execution_count": null,
   "metadata": {},
   "outputs": [],
   "source": []
  }
 ],
 "metadata": {
  "kernelspec": {
   "display_name": "Ruby 2.5.1",
   "language": "ruby",
   "name": "ruby"
  },
  "language_info": {
   "file_extension": ".rb",
   "mimetype": "application/x-ruby",
   "name": "ruby",
   "version": "2.5.1"
  }
 },
 "nbformat": 4,
 "nbformat_minor": 2
}
