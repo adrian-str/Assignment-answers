{
 "cells": [
  {
   "cell_type": "code",
   "execution_count": 1,
   "metadata": {},
   "outputs": [
    {
     "data": {
      "text/plain": [
       "true"
      ]
     },
     "execution_count": 1,
     "metadata": {},
     "output_type": "execute_result"
    }
   ],
   "source": [
    "require './GenesClass'\n",
    "require './Seed_stock'\n",
    "require './Cross'"
   ]
  },
  {
   "cell_type": "code",
   "execution_count": null,
   "metadata": {
    "scrolled": false
   },
   "outputs": [
    {
     "ename": "Errno::ENOENT",
     "evalue": "No such file or directory @ rb_sysopen - ./StockDatabaseDataFiles/gene_information.tsv",
     "output_type": "error",
     "traceback": [
      "\u001b[31mErrno::ENOENT\u001b[0m: No such file or directory @ rb_sysopen - ./StockDatabaseDataFiles/gene_information.tsv",
      "/home/osboxes/Bioinformatics_Challenges/Assignment/Assignment-answers/Assignment_1/GenesClass.rb:21:in `readlines'",
      "/home/osboxes/Bioinformatics_Challenges/Assignment/Assignment-answers/Assignment_1/GenesClass.rb:21:in `get_genes'",
      "(pry):4:in `<main>'",
      "/var/lib/gems/2.5.0/gems/pry-0.13.1/lib/pry/pry_instance.rb:290:in `eval'",
      "/var/lib/gems/2.5.0/gems/pry-0.13.1/lib/pry/pry_instance.rb:290:in `evaluate_ruby'",
      "/var/lib/gems/2.5.0/gems/pry-0.13.1/lib/pry/pry_instance.rb:659:in `handle_line'",
      "/var/lib/gems/2.5.0/gems/pry-0.13.1/lib/pry/pry_instance.rb:261:in `block (2 levels) in eval'",
      "/var/lib/gems/2.5.0/gems/pry-0.13.1/lib/pry/pry_instance.rb:260:in `catch'",
      "/var/lib/gems/2.5.0/gems/pry-0.13.1/lib/pry/pry_instance.rb:260:in `block in eval'",
      "/var/lib/gems/2.5.0/gems/pry-0.13.1/lib/pry/pry_instance.rb:259:in `catch'",
      "/var/lib/gems/2.5.0/gems/pry-0.13.1/lib/pry/pry_instance.rb:259:in `eval'",
      "/var/lib/gems/2.5.0/gems/iruby-0.4.0/lib/iruby/backend.rb:66:in `eval'",
      "/var/lib/gems/2.5.0/gems/iruby-0.4.0/lib/iruby/backend.rb:12:in `eval'",
      "/var/lib/gems/2.5.0/gems/iruby-0.4.0/lib/iruby/kernel.rb:90:in `execute_request'",
      "/var/lib/gems/2.5.0/gems/iruby-0.4.0/lib/iruby/kernel.rb:49:in `dispatch'",
      "/var/lib/gems/2.5.0/gems/iruby-0.4.0/lib/iruby/kernel.rb:38:in `run'",
      "/var/lib/gems/2.5.0/gems/iruby-0.4.0/lib/iruby/command.rb:110:in `run_kernel'",
      "/var/lib/gems/2.5.0/gems/iruby-0.4.0/lib/iruby/command.rb:40:in `run'",
      "/var/lib/gems/2.5.0/gems/iruby-0.4.0/bin/iruby:5:in `<main>'"
     ]
    }
   ],
   "source": [
    "Gene.get_genes(\"./gene_information.tsv\")\n",
    "Seed_stock.load_from_file(\"./seed_stock_data.tsv\")\n",
    "Cross.get_data(\"./cross_data.tsv\")"
   ]
  },
  {
   "cell_type": "code",
   "execution_count": 3,
   "metadata": {},
   "outputs": [
    {
     "data": {
      "text/plain": [
       "#<Seed_stock:0x000055effa3e5c20 @seed_stock=\"A334\", @id=\"AT1G69120\", @last_planted=\"5/7/2014\", @storage=\"cama2\", @grams=\"28\", @gene=#<Gene:0x000055effa442880 @gene_ID=\"AT1G69120\", @gene_name=\"ap1\", @mut_phenotype=\"\\\"meristems replace first and second whorl\\\"\", @linked_to=\"none\">>"
      ]
     },
     "execution_count": 3,
     "metadata": {},
     "output_type": "execute_result"
    }
   ],
   "source": [
    " Seed_stock.get_seed_stock(\"A334\")"
   ]
  },
  {
   "cell_type": "code",
   "execution_count": null,
   "metadata": {},
   "outputs": [],
   "source": [
    "Seed_stock.plant(7)"
   ]
  },
  {
   "cell_type": "code",
   "execution_count": null,
   "metadata": {},
   "outputs": [],
   "source": [
    "Seed_stock.update('new_stock_file.tsv')"
   ]
  },
  {
   "cell_type": "code",
   "execution_count": null,
   "metadata": {},
   "outputs": [],
   "source": [
    "Cross.chi2"
   ]
  },
  {
   "cell_type": "code",
   "execution_count": null,
   "metadata": {},
   "outputs": [],
   "source": [
    "Gene.get_all"
   ]
  },
  {
   "cell_type": "code",
   "execution_count": null,
   "metadata": {},
   "outputs": [],
   "source": [
    "Cross.get_crosses"
   ]
  },
  {
   "cell_type": "code",
   "execution_count": null,
   "metadata": {},
   "outputs": [],
   "source": []
  }
 ],
 "metadata": {
  "kernelspec": {
   "display_name": "Ruby 2.5.1",
   "language": "ruby",
   "name": "ruby"
  },
  "language_info": {
   "file_extension": ".rb",
   "mimetype": "application/x-ruby",
   "name": "ruby",
   "version": "2.5.1"
  }
 },
 "nbformat": 4,
 "nbformat_minor": 2
}
