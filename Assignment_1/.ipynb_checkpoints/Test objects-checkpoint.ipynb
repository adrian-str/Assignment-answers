{
 "cells": [
  {
   "cell_type": "code",
   "execution_count": 1,
   "metadata": {},
   "outputs": [
    {
     "data": {
      "text/plain": [
       "true"
      ]
     },
     "execution_count": 1,
     "metadata": {},
     "output_type": "execute_result"
    }
   ],
   "source": [
    "require './GenesClass'\n",
    "require './Seed_stock'\n"
   ]
  },
  {
   "cell_type": "code",
   "execution_count": 2,
   "metadata": {
    "scrolled": true
   },
   "outputs": [
    {
     "data": {
      "text/plain": [
       ":get_genes"
      ]
     },
     "execution_count": 2,
     "metadata": {},
     "output_type": "execute_result"
    }
   ],
   "source": [
    "Gene.get_genes(\"./StockDatabaseDataFiles/gene_information.tsv\")"
   ]
  },
  {
   "cell_type": "code",
   "execution_count": 3,
   "metadata": {},
   "outputs": [
    {
     "data": {
      "text/plain": [
       "[#<Gene:0x000055e0a2f358f8 @gene_ID=\"AT1G69120\", @gene_name=\"ap1\", @mut_phenotype=\"\\\"meristems replace first and second whorl\\\"\">, #<Gene:0x000055e0a2f35308 @gene_ID=\"AT4G36920\", @gene_name=\"ap2\", @mut_phenotype=\"\\\"first whorl carpels, second whorl stamens\\\"\">, #<Gene:0x000055e0a2f34d18 @gene_ID=\"AT3G54340\", @gene_name=\"ap3\", @mut_phenotype=\"\\\"second whorl sepals, third whorl carpels\\\"\">, #<Gene:0x000055e0a2f34700 @gene_ID=\"AT1G30950\", @gene_name=\"ufo\", @mut_phenotype=\"\\\"second whorl sepaloidy, third whorl missing or carpeloid\\\"\">, #<Gene:0x000055e0a2f34098 @gene_ID=\"AT5G20240\", @gene_name=\"pi\", @mut_phenotype=\"\\\"second whorl sepals, third whorl carpels\\\"\">]"
      ]
     },
     "execution_count": 3,
     "metadata": {},
     "output_type": "execute_result"
    }
   ],
   "source": [
    "Gene.get_genes"
   ]
  },
  {
   "cell_type": "code",
   "execution_count": 4,
   "metadata": {},
   "outputs": [
    {
     "data": {
      "text/plain": [
       "[\"A334\\tAT1G69120\\t5/7/2014\\tcama2\\t28\\n\", \"A348\\tAT4G36920\\t3/11/2013\\tcama25\\t12\\n\", \"B3334\\tAT3G54340\\t1/12/2014\\tcama18\\t22\\n\", \"A51\\tAT1G30950\\t9/2/2013\\tcama25\\t5\\n\", \"B52\\tAT5G20240\\t8/11/2012\\tcama16\\t7\\n\"]"
      ]
     },
     "execution_count": 4,
     "metadata": {},
     "output_type": "execute_result"
    }
   ],
   "source": [
    "Seed_stock.load_from_file(\"./StockDatabaseDataFiles/seed_stock_data.tsv\")"
   ]
  },
  {
   "cell_type": "code",
   "execution_count": 5,
   "metadata": {},
   "outputs": [
    {
     "data": {
      "text/plain": [
       "[#<Seed_stock:0x000055e0a2d99120 @seed_stock=\"A334\", @id=\"AT1G69120\", @last_planted=\"5/7/2014\", @storage=\"cama2\", @grams=\"28\", @gene=#<Gene:0x000055e0a2f358f8 @gene_ID=\"AT1G69120\", @gene_name=\"ap1\", @mut_phenotype=\"\\\"meristems replace first and second whorl\\\"\">>, #<Seed_stock:0x000055e0a2d98cc0 @seed_stock=\"A348\", @id=\"AT4G36920\", @last_planted=\"3/11/2013\", @storage=\"cama25\", @grams=\"12\", @gene=#<Gene:0x000055e0a2f35308 @gene_ID=\"AT4G36920\", @gene_name=\"ap2\", @mut_phenotype=\"\\\"first whorl carpels, second whorl stamens\\\"\">>, #<Seed_stock:0x000055e0a2d983b0 @seed_stock=\"B3334\", @id=\"AT3G54340\", @last_planted=\"1/12/2014\", @storage=\"cama18\", @grams=\"22\", @gene=#<Gene:0x000055e0a2f34d18 @gene_ID=\"AT3G54340\", @gene_name=\"ap3\", @mut_phenotype=\"\\\"second whorl sepals, third whorl carpels\\\"\">>, #<Seed_stock:0x000055e0a2d9b330 @seed_stock=\"A51\", @id=\"AT1G30950\", @last_planted=\"9/2/2013\", @storage=\"cama25\", @grams=\"5\", @gene=#<Gene:0x000055e0a2f34700 @gene_ID=\"AT1G30950\", @gene_name=\"ufo\", @mut_phenotype=\"\\\"second whorl sepaloidy, third whorl missing or carpeloid\\\"\">>, #<Seed_stock:0x000055e0a2d8f490 @seed_stock=\"B52\", @id=\"AT5G20240\", @last_planted=\"8/11/2012\", @storage=\"cama16\", @grams=\"7\", @gene=#<Gene:0x000055e0a2f34098 @gene_ID=\"AT5G20240\", @gene_name=\"pi\", @mut_phenotype=\"\\\"second whorl sepals, third whorl carpels\\\"\">>]"
      ]
     },
     "execution_count": 5,
     "metadata": {},
     "output_type": "execute_result"
    }
   ],
   "source": [
    "Seed_stock.get_stocks"
   ]
  }
 ],
 "metadata": {
  "kernelspec": {
   "display_name": "Ruby 2.5.1",
   "language": "ruby",
   "name": "ruby"
  },
  "language_info": {
   "file_extension": ".rb",
   "mimetype": "application/x-ruby",
   "name": "ruby",
   "version": "2.5.1"
  }
 },
 "nbformat": 4,
 "nbformat_minor": 2
}
